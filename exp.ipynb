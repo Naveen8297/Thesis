{
 "cells": [
  {
   "cell_type": "code",
   "execution_count": 1,
   "metadata": {},
   "outputs": [],
   "source": [
    "import numpy as np\n",
    "import ioh\n",
    "from nevergrad import functions\n",
    "import nevergrad as ng"
   ]
  },
  {
   "cell_type": "code",
   "execution_count": 3,
   "metadata": {},
   "outputs": [
    {
     "data": {
      "text/plain": [
       "<RealProblem 27. griewank (iid=0 dim=20)>"
      ]
     },
     "execution_count": 3,
     "metadata": {},
     "output_type": "execute_result"
    },
    {
     "name": "stdout",
     "output_type": "stream",
     "text": [
      "Bound dimension is wrong\n",
      "Bound dimension is wrong\n",
      "Bound dimension is wrong\n"
     ]
    }
   ],
   "source": [
    "ioh.problem.wrap_real_problem(lambda x : functions.corefuncs.hm(np.array(x)), 'hm', n_variables=20, optimization_type=ioh.OptimizationType.Minimization)\n",
    "ioh.problem.wrap_real_problem(lambda x : functions.corefuncs.rastrigin(np.array(x)), 'rastrigin', n_variables=20, optimization_type=ioh.OptimizationType.Minimization)\n",
    "ioh.problem.wrap_real_problem(lambda x : functions.corefuncs.griewank(np.array(x)), 'griewank', n_variables=20, optimization_type=ioh.OptimizationType.Minimization)\n",
    "\n"
   ]
  },
  {
   "cell_type": "code",
   "execution_count": 4,
   "metadata": {},
   "outputs": [],
   "source": [
    "def param(dimension):\n",
    "    x = ng.p.Array(shape=(dimension,))\n",
    "    parametrization = ng.p.Instrumentation(x)\n",
    "    return parametrization"
   ]
  },
  {
   "cell_type": "code",
   "execution_count": 5,
   "metadata": {},
   "outputs": [],
   "source": [
    "p = param(20)"
   ]
  },
  {
   "cell_type": "code",
   "execution_count": 7,
   "metadata": {},
   "outputs": [],
   "source": [
    "budget = 1000\n",
    "dimension = 20"
   ]
  },
  {
   "cell_type": "code",
   "execution_count": 9,
   "metadata": {},
   "outputs": [
    {
     "name": "stdout",
     "output_type": "stream",
     "text": [
      "hm\n",
      "rastrigin\n",
      "griewank\n"
     ]
    }
   ],
   "source": [
    "# wrap_problems_yabbob(20)\n",
    "\n",
    "for fname in ['hm', 'rastrigin', 'griewank']:\n",
    "    print(fname)\n",
    "    f = ioh.get_problem(fname, 1, dimension)\n",
    "    l = ioh.logger.Analyzer(root=\"data\", folder_name=fname)\n",
    "    f.attach_logger(l)\n",
    "    for runs in range(10):\n",
    "        optim = ng.optimizers.CMA(parametrization=param(dimension), budget=budget)\n",
    "        for u in range(budget):\n",
    "            x1 = optim.ask()\n",
    "            y1 = f(*x1.args) \n",
    "            optim.tell(x1, y1)\n",
    "    del l"
   ]
  },
  {
   "cell_type": "code",
   "execution_count": null,
   "metadata": {},
   "outputs": [],
   "source": []
  }
 ],
 "metadata": {
  "kernelspec": {
   "display_name": "Python 3 (ipykernel)",
   "language": "python",
   "name": "python3"
  },
  "language_info": {
   "codemirror_mode": {
    "name": "ipython",
    "version": 3
   },
   "file_extension": ".py",
   "mimetype": "text/x-python",
   "name": "python",
   "nbconvert_exporter": "python",
   "pygments_lexer": "ipython3",
   "version": "3.8.10"
  }
 },
 "nbformat": 4,
 "nbformat_minor": 4
}
