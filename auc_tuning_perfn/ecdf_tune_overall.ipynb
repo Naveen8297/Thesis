{
 "cells": [
  {
   "cell_type": "code",
   "execution_count": 1,
   "id": "6261a42d",
   "metadata": {},
   "outputs": [],
   "source": [
    "import pandas as pd\n",
    "import matplotlib.pyplot as plt\n",
    "import numpy as np\n",
    "import itertools\n",
    "from sklearn.metrics import auc\n",
    "import seaborn as sns"
   ]
  },
  {
   "cell_type": "code",
   "execution_count": 2,
   "id": "1e610554",
   "metadata": {},
   "outputs": [],
   "source": [
    "targets = [2, 1, 0, -1, -2, -3, -4, -5, -6, -7, -8]\n",
    "targets = [10**x for x in targets]\n",
    "evals = [1, 223, 445, 668, 890, 1112, 1334, 1557, 1779, 2001, 2223, 2445, 2668, 2890,\n",
    "         3112, 3334, 3557, 3779, 4001, 4223, 4445, 4668, 4890, 5001]\n",
    "functions = list(np.arange(25, 44))"
   ]
  },
  {
   "cell_type": "code",
   "execution_count": 3,
   "id": "8c5aafb5",
   "metadata": {},
   "outputs": [
    {
     "data": {
      "text/plain": [
       "[('DCMA_6_2.2202_F', 'PSO_30_I'),\n",
       " ('DCMA_8_4.0305_F', 'PSO_30_I'),\n",
       " ('DCMA_6_4.029_T', 'PSO_30_I'),\n",
       " ('DCMA_7_4.8509_T', 'PSO_30_I'),\n",
       " ('DCMA_14_1.4688_T', 'PSO_32_I'),\n",
       " ('DCMA_23_3.6117_F', 'PSO_32_I'),\n",
       " ('DCMA_13_2.2287_F', 'PSO_32_I'),\n",
       " ('DCMA_27_4.1712_T', 'PSO_35_I')]"
      ]
     },
     "execution_count": 3,
     "metadata": {},
     "output_type": "execute_result"
    }
   ],
   "source": [
    "algo_dcma = ['DCMA_6_2.2202_F', 'DCMA_8_4.0305_F', 'DCMA_6_4.029_T', 'DCMA_7_4.8509_T', 'DCMA_14_1.4688_T', 'DCMA_23_3.6117_F',\n",
    "             'DCMA_13_2.2287_F', 'DCMA_27_4.1712_T']\n",
    "algo_pso = ['PSO_30_I', 'PSO_32_I', 'PSO_35_I']\n",
    "algo_combinations = []\n",
    "for i in range(4):\n",
    "    algo_combinations.append((algo_dcma[i], algo_pso[0]))\n",
    "for i in range(4,7):\n",
    "    algo_combinations.append((algo_dcma[i], algo_pso[1]))\n",
    "algo_combinations.append((algo_dcma[7], algo_pso[2]))\n",
    "#algo_combinations.append(('DiagonalCMA', 'PSO'))\n",
    "algo_combinations   #reqd. config settings"
   ]
  },
  {
   "cell_type": "code",
   "execution_count": 3,
   "id": "6c318a37",
   "metadata": {},
   "outputs": [],
   "source": [
    "df_auc = pd.read_csv('performance_auc.csv', index_col=[0])   #aucs of default combinations (for comparison with default variant)"
   ]
  },
  {
   "cell_type": "code",
   "execution_count": 4,
   "id": "1f755697",
   "metadata": {},
   "outputs": [],
   "source": [
    "import re\n",
    "c = \"'\"\n",
    "for col in df_auc.columns:\n",
    "    new_col = re.sub(c, '', col)\n",
    "    df_auc.rename(columns = {col:new_col}, inplace = True)"
   ]
  },
  {
   "cell_type": "code",
   "execution_count": 8,
   "id": "117fdae6",
   "metadata": {},
   "outputs": [],
   "source": [
    "#df_auc.head()"
   ]
  },
  {
   "cell_type": "code",
   "execution_count": 12,
   "id": "dc0fd1e9",
   "metadata": {},
   "outputs": [
    {
     "data": {
      "text/html": [
       "<div>\n",
       "<style scoped>\n",
       "    .dataframe tbody tr th:only-of-type {\n",
       "        vertical-align: middle;\n",
       "    }\n",
       "\n",
       "    .dataframe tbody tr th {\n",
       "        vertical-align: top;\n",
       "    }\n",
       "\n",
       "    .dataframe thead th {\n",
       "        text-align: right;\n",
       "    }\n",
       "</style>\n",
       "<table border=\"1\" class=\"dataframe\">\n",
       "  <thead>\n",
       "    <tr style=\"text-align: right;\">\n",
       "      <th></th>\n",
       "      <th>(DCMA_6_2.2202_F, PSO_30_I)</th>\n",
       "      <th>(DCMA_8_4.0305_F, PSO_30_I)</th>\n",
       "      <th>(DCMA_6_4.029_T, PSO_30_I)</th>\n",
       "      <th>(DCMA_7_4.8509_T, PSO_30_I)</th>\n",
       "      <th>(DCMA_14_1.4688_T, PSO_32_I)</th>\n",
       "      <th>(DCMA_23_3.6117_F, PSO_32_I)</th>\n",
       "      <th>(DCMA_13_2.2287_F, PSO_32_I)</th>\n",
       "      <th>(DCMA_27_4.1712_T, PSO_35_I)</th>\n",
       "    </tr>\n",
       "  </thead>\n",
       "  <tbody>\n",
       "    <tr>\n",
       "      <th>25</th>\n",
       "      <td>0.0</td>\n",
       "      <td>0.0</td>\n",
       "      <td>0.0</td>\n",
       "      <td>0.0</td>\n",
       "      <td>0.0</td>\n",
       "      <td>0.0</td>\n",
       "      <td>0.0</td>\n",
       "      <td>0.0</td>\n",
       "    </tr>\n",
       "    <tr>\n",
       "      <th>26</th>\n",
       "      <td>0.0</td>\n",
       "      <td>0.0</td>\n",
       "      <td>0.0</td>\n",
       "      <td>0.0</td>\n",
       "      <td>0.0</td>\n",
       "      <td>0.0</td>\n",
       "      <td>0.0</td>\n",
       "      <td>0.0</td>\n",
       "    </tr>\n",
       "    <tr>\n",
       "      <th>27</th>\n",
       "      <td>0.0</td>\n",
       "      <td>0.0</td>\n",
       "      <td>0.0</td>\n",
       "      <td>0.0</td>\n",
       "      <td>0.0</td>\n",
       "      <td>0.0</td>\n",
       "      <td>0.0</td>\n",
       "      <td>0.0</td>\n",
       "    </tr>\n",
       "    <tr>\n",
       "      <th>28</th>\n",
       "      <td>0.0</td>\n",
       "      <td>0.0</td>\n",
       "      <td>0.0</td>\n",
       "      <td>0.0</td>\n",
       "      <td>0.0</td>\n",
       "      <td>0.0</td>\n",
       "      <td>0.0</td>\n",
       "      <td>0.0</td>\n",
       "    </tr>\n",
       "    <tr>\n",
       "      <th>29</th>\n",
       "      <td>0.0</td>\n",
       "      <td>0.0</td>\n",
       "      <td>0.0</td>\n",
       "      <td>0.0</td>\n",
       "      <td>0.0</td>\n",
       "      <td>0.0</td>\n",
       "      <td>0.0</td>\n",
       "      <td>0.0</td>\n",
       "    </tr>\n",
       "  </tbody>\n",
       "</table>\n",
       "</div>"
      ],
      "text/plain": [
       "    (DCMA_6_2.2202_F, PSO_30_I)  (DCMA_8_4.0305_F, PSO_30_I)  \\\n",
       "25                          0.0                          0.0   \n",
       "26                          0.0                          0.0   \n",
       "27                          0.0                          0.0   \n",
       "28                          0.0                          0.0   \n",
       "29                          0.0                          0.0   \n",
       "\n",
       "    (DCMA_6_4.029_T, PSO_30_I)  (DCMA_7_4.8509_T, PSO_30_I)  \\\n",
       "25                         0.0                          0.0   \n",
       "26                         0.0                          0.0   \n",
       "27                         0.0                          0.0   \n",
       "28                         0.0                          0.0   \n",
       "29                         0.0                          0.0   \n",
       "\n",
       "    (DCMA_14_1.4688_T, PSO_32_I)  (DCMA_23_3.6117_F, PSO_32_I)  \\\n",
       "25                           0.0                           0.0   \n",
       "26                           0.0                           0.0   \n",
       "27                           0.0                           0.0   \n",
       "28                           0.0                           0.0   \n",
       "29                           0.0                           0.0   \n",
       "\n",
       "    (DCMA_13_2.2287_F, PSO_32_I)  (DCMA_27_4.1712_T, PSO_35_I)  \n",
       "25                           0.0                           0.0  \n",
       "26                           0.0                           0.0  \n",
       "27                           0.0                           0.0  \n",
       "28                           0.0                           0.0  \n",
       "29                           0.0                           0.0  "
      ]
     },
     "execution_count": 12,
     "metadata": {},
     "output_type": "execute_result"
    }
   ],
   "source": [
    "df_tune = pd.DataFrame(columns=algo_combinations, index=functions)\n",
    "df_tune = df_tune.fillna(0)\n",
    "df_tune = df_tune.astype(float)\n",
    "df_tune.head()"
   ]
  },
  {
   "cell_type": "code",
   "execution_count": 13,
   "id": "14ad3995",
   "metadata": {},
   "outputs": [],
   "source": [
    "def ecdf(func, algo_tuple, targets=targets, evals=evals):\n",
    "    df = pd.read_csv(r'filepath/FVSample-10DF'+str(func)+'.csv')  #original target sample csv file based on logs uploaded to iohanalyzer\n",
    "    \n",
    "    algo1 = algo_tuple[0]\n",
    "    algo2 = algo_tuple[1]\n",
    "    #name_algo1 = rename(algo1)\n",
    "    #name_algo2 = rename(algo2)\n",
    "    \n",
    "    fig, ax = plt.subplots(1, 2, figsize=(10, 4))\n",
    "    pts_algo1 = []\n",
    "    pts_algo2 = []\n",
    "    pseudo = []\n",
    "    \n",
    "    \n",
    "    for feval in evals:\n",
    "        tar_tot1 = 0\n",
    "        tar_tot2 = 0\n",
    "        for target in targets:\n",
    "            total1 = 0\n",
    "            total2 = 0\n",
    "            for i in range(4, 29):\n",
    "                if float(df[df['ID']==algo1][df['runtime']==feval].iloc[:, i]) <= target:\n",
    "                    total1 += 1\n",
    "                if float(df[df['ID']==algo2][df['runtime']==feval].iloc[:, i]) <= target:\n",
    "                    total2 += 1\n",
    "            total1 = total1/25\n",
    "            total2 = total2/25\n",
    "            tar_tot1 += total1\n",
    "            tar_tot2 += total2\n",
    "        tar_tot1 = tar_tot1/len(targets)\n",
    "        tar_tot2 = tar_tot2/len(targets)\n",
    "        pts_algo1.append(tar_tot1)\n",
    "        pts_algo2.append(tar_tot2)\n",
    "        \n",
    "    for i in range(len(pts_algo1)):\n",
    "        if pts_algo1[i] >= pts_algo2[i]:\n",
    "            pseudo.append((pts_algo1[i], algo1))\n",
    "        else:\n",
    "            pseudo.append((pts_algo2[i], algo2))\n",
    "     \n",
    "    pts_pseudo = [x[0] for x in pseudo]\n",
    "    \n",
    "    #print(pseudo)\n",
    "    \n",
    "    ax[0].plot(evals, pts_algo1, color='blue', marker='o')\n",
    "    ax[0].plot(evals, pts_algo2, color='red', marker='^')\n",
    "    ax[0].legend([algo1, algo2])\n",
    "    ax[0].set_title('ECDF of '+algo1+' and\\n'+algo2+' on F'+str(func))\n",
    "    ax[0].set_xlabel('Function evaluations')\n",
    "    ax[0].set_ylabel('Proportion of runs')\n",
    "    #ax[0].set_xscale('log')\n",
    "    #ax[0].invert_xaxis()\n",
    "    \n",
    "    ax[1].plot(evals, pts_pseudo, color='green', marker='o', alpha=0.6)\n",
    "    ####\n",
    "                \n",
    "    area = auc(evals, pts_pseudo)\n",
    "    df_tune.loc[func][algo_tuple] = area\n",
    "    area = round(area, 2)\n",
    "    \n",
    "        \n",
    "    ax[1].set_title('ECDF of pseudo algorithm on F'+str(func)+'\\nAUC: '+str(area))\n",
    "    \n",
    "    ax[1].set_xlabel('Function evaluations')\n",
    "    ax[1].set_ylabel('Proportion of runs')\n",
    "    #ax[1].invert_xaxis()\n",
    "    #ax[1].set_xscale('log')\n",
    "    #area = auc(evals, pts_pseudo)\n",
    "    #area = round(area, 2)\n",
    "    #ax[1].text(3000, 0.05, r\"AUC: \"+str(area))\n",
    "    \n",
    "    \n",
    "    fig.tight_layout()\n",
    "    #plt.show()\n",
    "    #print(pseudo)\n",
    "    #area = integrate(evals, pts_pseudo)\n",
    "    \n",
    "    #print(\"AUC: \", auc(evals, pts_pseudo))\n",
    "    plt.savefig(r'graphs_tune/'+str(func)+'_'+algo1+'_'+algo2+'.pdf')\n",
    "    print(func, algo_tuple)"
   ]
  },
  {
   "cell_type": "code",
   "execution_count": 14,
   "id": "2e728ef3",
   "metadata": {},
   "outputs": [
    {
     "name": "stderr",
     "output_type": "stream",
     "text": [
      "C:\\Users\\NAVEEN\\Anaconda3\\envs\\newtf\\lib\\site-packages\\ipykernel_launcher.py:22: UserWarning: Boolean Series key will be reindexed to match DataFrame index.\n",
      "C:\\Users\\NAVEEN\\Anaconda3\\envs\\newtf\\lib\\site-packages\\ipykernel_launcher.py:24: UserWarning: Boolean Series key will be reindexed to match DataFrame index.\n"
     ]
    },
    {
     "name": "stdout",
     "output_type": "stream",
     "text": [
      "25 ('DCMA_6_2.2202_F', 'PSO_30_I')\n"
     ]
    },
    {
     "name": "stderr",
     "output_type": "stream",
     "text": [
      "C:\\Users\\NAVEEN\\Anaconda3\\envs\\newtf\\lib\\site-packages\\ipykernel_launcher.py:22: UserWarning: Boolean Series key will be reindexed to match DataFrame index.\n",
      "C:\\Users\\NAVEEN\\Anaconda3\\envs\\newtf\\lib\\site-packages\\ipykernel_launcher.py:24: UserWarning: Boolean Series key will be reindexed to match DataFrame index.\n"
     ]
    },
    {
     "name": "stdout",
     "output_type": "stream",
     "text": [
      "25 ('DCMA_8_4.0305_F', 'PSO_30_I')\n"
     ]
    },
    {
     "name": "stderr",
     "output_type": "stream",
     "text": [
      "C:\\Users\\NAVEEN\\Anaconda3\\envs\\newtf\\lib\\site-packages\\ipykernel_launcher.py:22: UserWarning: Boolean Series key will be reindexed to match DataFrame index.\n",
      "C:\\Users\\NAVEEN\\Anaconda3\\envs\\newtf\\lib\\site-packages\\ipykernel_launcher.py:24: UserWarning: Boolean Series key will be reindexed to match DataFrame index.\n"
     ]
    },
    {
     "name": "stdout",
     "output_type": "stream",
     "text": [
      "25 ('DCMA_6_4.029_T', 'PSO_30_I')\n"
     ]
    },
    {
     "name": "stderr",
     "output_type": "stream",
     "text": [
      "C:\\Users\\NAVEEN\\Anaconda3\\envs\\newtf\\lib\\site-packages\\ipykernel_launcher.py:22: UserWarning: Boolean Series key will be reindexed to match DataFrame index.\n",
      "C:\\Users\\NAVEEN\\Anaconda3\\envs\\newtf\\lib\\site-packages\\ipykernel_launcher.py:24: UserWarning: Boolean Series key will be reindexed to match DataFrame index.\n"
     ]
    },
    {
     "name": "stdout",
     "output_type": "stream",
     "text": [
      "25 ('DCMA_7_4.8509_T', 'PSO_30_I')\n"
     ]
    },
    {
     "name": "stderr",
     "output_type": "stream",
     "text": [
      "C:\\Users\\NAVEEN\\Anaconda3\\envs\\newtf\\lib\\site-packages\\ipykernel_launcher.py:22: UserWarning: Boolean Series key will be reindexed to match DataFrame index.\n",
      "C:\\Users\\NAVEEN\\Anaconda3\\envs\\newtf\\lib\\site-packages\\ipykernel_launcher.py:24: UserWarning: Boolean Series key will be reindexed to match DataFrame index.\n"
     ]
    },
    {
     "name": "stdout",
     "output_type": "stream",
     "text": [
      "25 ('DCMA_14_1.4688_T', 'PSO_32_I')\n"
     ]
    },
    {
     "name": "stderr",
     "output_type": "stream",
     "text": [
      "C:\\Users\\NAVEEN\\Anaconda3\\envs\\newtf\\lib\\site-packages\\ipykernel_launcher.py:22: UserWarning: Boolean Series key will be reindexed to match DataFrame index.\n",
      "C:\\Users\\NAVEEN\\Anaconda3\\envs\\newtf\\lib\\site-packages\\ipykernel_launcher.py:24: UserWarning: Boolean Series key will be reindexed to match DataFrame index.\n"
     ]
    },
    {
     "name": "stdout",
     "output_type": "stream",
     "text": [
      "25 ('DCMA_23_3.6117_F', 'PSO_32_I')\n"
     ]
    },
    {
     "name": "stderr",
     "output_type": "stream",
     "text": [
      "C:\\Users\\NAVEEN\\Anaconda3\\envs\\newtf\\lib\\site-packages\\ipykernel_launcher.py:22: UserWarning: Boolean Series key will be reindexed to match DataFrame index.\n",
      "C:\\Users\\NAVEEN\\Anaconda3\\envs\\newtf\\lib\\site-packages\\ipykernel_launcher.py:24: UserWarning: Boolean Series key will be reindexed to match DataFrame index.\n"
     ]
    },
    {
     "name": "stdout",
     "output_type": "stream",
     "text": [
      "25 ('DCMA_13_2.2287_F', 'PSO_32_I')\n"
     ]
    },
    {
     "name": "stderr",
     "output_type": "stream",
     "text": [
      "C:\\Users\\NAVEEN\\Anaconda3\\envs\\newtf\\lib\\site-packages\\ipykernel_launcher.py:22: UserWarning: Boolean Series key will be reindexed to match DataFrame index.\n",
      "C:\\Users\\NAVEEN\\Anaconda3\\envs\\newtf\\lib\\site-packages\\ipykernel_launcher.py:24: UserWarning: Boolean Series key will be reindexed to match DataFrame index.\n"
     ]
    },
    {
     "name": "stdout",
     "output_type": "stream",
     "text": [
      "25 ('DCMA_27_4.1712_T', 'PSO_35_I')\n"
     ]
    },
    {
     "name": "stderr",
     "output_type": "stream",
     "text": [
      "C:\\Users\\NAVEEN\\Anaconda3\\envs\\newtf\\lib\\site-packages\\ipykernel_launcher.py:22: UserWarning: Boolean Series key will be reindexed to match DataFrame index.\n",
      "C:\\Users\\NAVEEN\\Anaconda3\\envs\\newtf\\lib\\site-packages\\ipykernel_launcher.py:24: UserWarning: Boolean Series key will be reindexed to match DataFrame index.\n"
     ]
    },
    {
     "name": "stdout",
     "output_type": "stream",
     "text": [
      "26 ('DCMA_6_2.2202_F', 'PSO_30_I')\n"
     ]
    },
    {
     "name": "stderr",
     "output_type": "stream",
     "text": [
      "C:\\Users\\NAVEEN\\Anaconda3\\envs\\newtf\\lib\\site-packages\\ipykernel_launcher.py:22: UserWarning: Boolean Series key will be reindexed to match DataFrame index.\n",
      "C:\\Users\\NAVEEN\\Anaconda3\\envs\\newtf\\lib\\site-packages\\ipykernel_launcher.py:24: UserWarning: Boolean Series key will be reindexed to match DataFrame index.\n"
     ]
    },
    {
     "name": "stdout",
     "output_type": "stream",
     "text": [
      "26 ('DCMA_8_4.0305_F', 'PSO_30_I')\n"
     ]
    },
    {
     "name": "stderr",
     "output_type": "stream",
     "text": [
      "C:\\Users\\NAVEEN\\Anaconda3\\envs\\newtf\\lib\\site-packages\\ipykernel_launcher.py:22: UserWarning: Boolean Series key will be reindexed to match DataFrame index.\n",
      "C:\\Users\\NAVEEN\\Anaconda3\\envs\\newtf\\lib\\site-packages\\ipykernel_launcher.py:24: UserWarning: Boolean Series key will be reindexed to match DataFrame index.\n"
     ]
    },
    {
     "name": "stdout",
     "output_type": "stream",
     "text": [
      "26 ('DCMA_6_4.029_T', 'PSO_30_I')\n"
     ]
    },
    {
     "name": "stderr",
     "output_type": "stream",
     "text": [
      "C:\\Users\\NAVEEN\\Anaconda3\\envs\\newtf\\lib\\site-packages\\ipykernel_launcher.py:22: UserWarning: Boolean Series key will be reindexed to match DataFrame index.\n",
      "C:\\Users\\NAVEEN\\Anaconda3\\envs\\newtf\\lib\\site-packages\\ipykernel_launcher.py:24: UserWarning: Boolean Series key will be reindexed to match DataFrame index.\n"
     ]
    },
    {
     "name": "stdout",
     "output_type": "stream",
     "text": [
      "26 ('DCMA_7_4.8509_T', 'PSO_30_I')\n"
     ]
    },
    {
     "name": "stderr",
     "output_type": "stream",
     "text": [
      "C:\\Users\\NAVEEN\\Anaconda3\\envs\\newtf\\lib\\site-packages\\ipykernel_launcher.py:22: UserWarning: Boolean Series key will be reindexed to match DataFrame index.\n",
      "C:\\Users\\NAVEEN\\Anaconda3\\envs\\newtf\\lib\\site-packages\\ipykernel_launcher.py:24: UserWarning: Boolean Series key will be reindexed to match DataFrame index.\n"
     ]
    },
    {
     "name": "stdout",
     "output_type": "stream",
     "text": [
      "26 ('DCMA_14_1.4688_T', 'PSO_32_I')\n"
     ]
    },
    {
     "name": "stderr",
     "output_type": "stream",
     "text": [
      "C:\\Users\\NAVEEN\\Anaconda3\\envs\\newtf\\lib\\site-packages\\ipykernel_launcher.py:22: UserWarning: Boolean Series key will be reindexed to match DataFrame index.\n",
      "C:\\Users\\NAVEEN\\Anaconda3\\envs\\newtf\\lib\\site-packages\\ipykernel_launcher.py:24: UserWarning: Boolean Series key will be reindexed to match DataFrame index.\n"
     ]
    },
    {
     "name": "stdout",
     "output_type": "stream",
     "text": [
      "26 ('DCMA_23_3.6117_F', 'PSO_32_I')\n"
     ]
    },
    {
     "name": "stderr",
     "output_type": "stream",
     "text": [
      "C:\\Users\\NAVEEN\\Anaconda3\\envs\\newtf\\lib\\site-packages\\ipykernel_launcher.py:22: UserWarning: Boolean Series key will be reindexed to match DataFrame index.\n",
      "C:\\Users\\NAVEEN\\Anaconda3\\envs\\newtf\\lib\\site-packages\\ipykernel_launcher.py:24: UserWarning: Boolean Series key will be reindexed to match DataFrame index.\n"
     ]
    },
    {
     "name": "stdout",
     "output_type": "stream",
     "text": [
      "26 ('DCMA_13_2.2287_F', 'PSO_32_I')\n"
     ]
    },
    {
     "name": "stderr",
     "output_type": "stream",
     "text": [
      "C:\\Users\\NAVEEN\\Anaconda3\\envs\\newtf\\lib\\site-packages\\ipykernel_launcher.py:22: UserWarning: Boolean Series key will be reindexed to match DataFrame index.\n",
      "C:\\Users\\NAVEEN\\Anaconda3\\envs\\newtf\\lib\\site-packages\\ipykernel_launcher.py:24: UserWarning: Boolean Series key will be reindexed to match DataFrame index.\n"
     ]
    },
    {
     "name": "stdout",
     "output_type": "stream",
     "text": [
      "26 ('DCMA_27_4.1712_T', 'PSO_35_I')\n"
     ]
    },
    {
     "name": "stderr",
     "output_type": "stream",
     "text": [
      "C:\\Users\\NAVEEN\\Anaconda3\\envs\\newtf\\lib\\site-packages\\ipykernel_launcher.py:22: UserWarning: Boolean Series key will be reindexed to match DataFrame index.\n",
      "C:\\Users\\NAVEEN\\Anaconda3\\envs\\newtf\\lib\\site-packages\\ipykernel_launcher.py:24: UserWarning: Boolean Series key will be reindexed to match DataFrame index.\n"
     ]
    },
    {
     "name": "stdout",
     "output_type": "stream",
     "text": [
      "27 ('DCMA_6_2.2202_F', 'PSO_30_I')\n"
     ]
    },
    {
     "name": "stderr",
     "output_type": "stream",
     "text": [
      "C:\\Users\\NAVEEN\\Anaconda3\\envs\\newtf\\lib\\site-packages\\ipykernel_launcher.py:22: UserWarning: Boolean Series key will be reindexed to match DataFrame index.\n",
      "C:\\Users\\NAVEEN\\Anaconda3\\envs\\newtf\\lib\\site-packages\\ipykernel_launcher.py:24: UserWarning: Boolean Series key will be reindexed to match DataFrame index.\n"
     ]
    },
    {
     "name": "stdout",
     "output_type": "stream",
     "text": [
      "27 ('DCMA_8_4.0305_F', 'PSO_30_I')\n"
     ]
    },
    {
     "name": "stderr",
     "output_type": "stream",
     "text": [
      "C:\\Users\\NAVEEN\\Anaconda3\\envs\\newtf\\lib\\site-packages\\ipykernel_launcher.py:22: UserWarning: Boolean Series key will be reindexed to match DataFrame index.\n",
      "C:\\Users\\NAVEEN\\Anaconda3\\envs\\newtf\\lib\\site-packages\\ipykernel_launcher.py:24: UserWarning: Boolean Series key will be reindexed to match DataFrame index.\n"
     ]
    },
    {
     "name": "stdout",
     "output_type": "stream",
     "text": [
      "27 ('DCMA_6_4.029_T', 'PSO_30_I')\n"
     ]
    },
    {
     "name": "stderr",
     "output_type": "stream",
     "text": [
      "C:\\Users\\NAVEEN\\Anaconda3\\envs\\newtf\\lib\\site-packages\\ipykernel_launcher.py:22: UserWarning: Boolean Series key will be reindexed to match DataFrame index.\n",
      "C:\\Users\\NAVEEN\\Anaconda3\\envs\\newtf\\lib\\site-packages\\ipykernel_launcher.py:24: UserWarning: Boolean Series key will be reindexed to match DataFrame index.\n"
     ]
    },
    {
     "name": "stdout",
     "output_type": "stream",
     "text": [
      "27 ('DCMA_7_4.8509_T', 'PSO_30_I')\n"
     ]
    },
    {
     "name": "stderr",
     "output_type": "stream",
     "text": [
      "C:\\Users\\NAVEEN\\Anaconda3\\envs\\newtf\\lib\\site-packages\\ipykernel_launcher.py:9: RuntimeWarning: More than 20 figures have been opened. Figures created through the pyplot interface (`matplotlib.pyplot.figure`) are retained until explicitly closed and may consume too much memory. (To control this warning, see the rcParam `figure.max_open_warning`).\n",
      "  if __name__ == '__main__':\n",
      "C:\\Users\\NAVEEN\\Anaconda3\\envs\\newtf\\lib\\site-packages\\ipykernel_launcher.py:22: UserWarning: Boolean Series key will be reindexed to match DataFrame index.\n",
      "C:\\Users\\NAVEEN\\Anaconda3\\envs\\newtf\\lib\\site-packages\\ipykernel_launcher.py:24: UserWarning: Boolean Series key will be reindexed to match DataFrame index.\n"
     ]
    },
    {
     "name": "stdout",
     "output_type": "stream",
     "text": [
      "27 ('DCMA_14_1.4688_T', 'PSO_32_I')\n"
     ]
    },
    {
     "name": "stderr",
     "output_type": "stream",
     "text": [
      "C:\\Users\\NAVEEN\\Anaconda3\\envs\\newtf\\lib\\site-packages\\ipykernel_launcher.py:22: UserWarning: Boolean Series key will be reindexed to match DataFrame index.\n",
      "C:\\Users\\NAVEEN\\Anaconda3\\envs\\newtf\\lib\\site-packages\\ipykernel_launcher.py:24: UserWarning: Boolean Series key will be reindexed to match DataFrame index.\n"
     ]
    },
    {
     "name": "stdout",
     "output_type": "stream",
     "text": [
      "27 ('DCMA_23_3.6117_F', 'PSO_32_I')\n"
     ]
    },
    {
     "name": "stderr",
     "output_type": "stream",
     "text": [
      "C:\\Users\\NAVEEN\\Anaconda3\\envs\\newtf\\lib\\site-packages\\ipykernel_launcher.py:22: UserWarning: Boolean Series key will be reindexed to match DataFrame index.\n",
      "C:\\Users\\NAVEEN\\Anaconda3\\envs\\newtf\\lib\\site-packages\\ipykernel_launcher.py:24: UserWarning: Boolean Series key will be reindexed to match DataFrame index.\n"
     ]
    },
    {
     "name": "stdout",
     "output_type": "stream",
     "text": [
      "27 ('DCMA_13_2.2287_F', 'PSO_32_I')\n"
     ]
    },
    {
     "name": "stderr",
     "output_type": "stream",
     "text": [
      "C:\\Users\\NAVEEN\\Anaconda3\\envs\\newtf\\lib\\site-packages\\ipykernel_launcher.py:22: UserWarning: Boolean Series key will be reindexed to match DataFrame index.\n",
      "C:\\Users\\NAVEEN\\Anaconda3\\envs\\newtf\\lib\\site-packages\\ipykernel_launcher.py:24: UserWarning: Boolean Series key will be reindexed to match DataFrame index.\n"
     ]
    },
    {
     "name": "stdout",
     "output_type": "stream",
     "text": [
      "27 ('DCMA_27_4.1712_T', 'PSO_35_I')\n"
     ]
    },
    {
     "name": "stderr",
     "output_type": "stream",
     "text": [
      "C:\\Users\\NAVEEN\\Anaconda3\\envs\\newtf\\lib\\site-packages\\ipykernel_launcher.py:22: UserWarning: Boolean Series key will be reindexed to match DataFrame index.\n",
      "C:\\Users\\NAVEEN\\Anaconda3\\envs\\newtf\\lib\\site-packages\\ipykernel_launcher.py:24: UserWarning: Boolean Series key will be reindexed to match DataFrame index.\n"
     ]
    },
    {
     "name": "stdout",
     "output_type": "stream",
     "text": [
      "28 ('DCMA_6_2.2202_F', 'PSO_30_I')\n"
     ]
    },
    {
     "name": "stderr",
     "output_type": "stream",
     "text": [
      "C:\\Users\\NAVEEN\\Anaconda3\\envs\\newtf\\lib\\site-packages\\ipykernel_launcher.py:22: UserWarning: Boolean Series key will be reindexed to match DataFrame index.\n",
      "C:\\Users\\NAVEEN\\Anaconda3\\envs\\newtf\\lib\\site-packages\\ipykernel_launcher.py:24: UserWarning: Boolean Series key will be reindexed to match DataFrame index.\n"
     ]
    },
    {
     "name": "stdout",
     "output_type": "stream",
     "text": [
      "28 ('DCMA_8_4.0305_F', 'PSO_30_I')\n"
     ]
    },
    {
     "name": "stderr",
     "output_type": "stream",
     "text": [
      "C:\\Users\\NAVEEN\\Anaconda3\\envs\\newtf\\lib\\site-packages\\ipykernel_launcher.py:22: UserWarning: Boolean Series key will be reindexed to match DataFrame index.\n",
      "C:\\Users\\NAVEEN\\Anaconda3\\envs\\newtf\\lib\\site-packages\\ipykernel_launcher.py:24: UserWarning: Boolean Series key will be reindexed to match DataFrame index.\n"
     ]
    },
    {
     "name": "stdout",
     "output_type": "stream",
     "text": [
      "28 ('DCMA_6_4.029_T', 'PSO_30_I')\n"
     ]
    },
    {
     "name": "stderr",
     "output_type": "stream",
     "text": [
      "C:\\Users\\NAVEEN\\Anaconda3\\envs\\newtf\\lib\\site-packages\\ipykernel_launcher.py:22: UserWarning: Boolean Series key will be reindexed to match DataFrame index.\n",
      "C:\\Users\\NAVEEN\\Anaconda3\\envs\\newtf\\lib\\site-packages\\ipykernel_launcher.py:24: UserWarning: Boolean Series key will be reindexed to match DataFrame index.\n"
     ]
    },
    {
     "name": "stdout",
     "output_type": "stream",
     "text": [
      "28 ('DCMA_7_4.8509_T', 'PSO_30_I')\n"
     ]
    },
    {
     "name": "stderr",
     "output_type": "stream",
     "text": [
      "C:\\Users\\NAVEEN\\Anaconda3\\envs\\newtf\\lib\\site-packages\\ipykernel_launcher.py:22: UserWarning: Boolean Series key will be reindexed to match DataFrame index.\n",
      "C:\\Users\\NAVEEN\\Anaconda3\\envs\\newtf\\lib\\site-packages\\ipykernel_launcher.py:24: UserWarning: Boolean Series key will be reindexed to match DataFrame index.\n"
     ]
    },
    {
     "name": "stdout",
     "output_type": "stream",
     "text": [
      "28 ('DCMA_14_1.4688_T', 'PSO_32_I')\n"
     ]
    },
    {
     "name": "stderr",
     "output_type": "stream",
     "text": [
      "C:\\Users\\NAVEEN\\Anaconda3\\envs\\newtf\\lib\\site-packages\\ipykernel_launcher.py:22: UserWarning: Boolean Series key will be reindexed to match DataFrame index.\n",
      "C:\\Users\\NAVEEN\\Anaconda3\\envs\\newtf\\lib\\site-packages\\ipykernel_launcher.py:24: UserWarning: Boolean Series key will be reindexed to match DataFrame index.\n"
     ]
    },
    {
     "name": "stdout",
     "output_type": "stream",
     "text": [
      "28 ('DCMA_23_3.6117_F', 'PSO_32_I')\n"
     ]
    },
    {
     "name": "stderr",
     "output_type": "stream",
     "text": [
      "C:\\Users\\NAVEEN\\Anaconda3\\envs\\newtf\\lib\\site-packages\\ipykernel_launcher.py:22: UserWarning: Boolean Series key will be reindexed to match DataFrame index.\n",
      "C:\\Users\\NAVEEN\\Anaconda3\\envs\\newtf\\lib\\site-packages\\ipykernel_launcher.py:24: UserWarning: Boolean Series key will be reindexed to match DataFrame index.\n"
     ]
    },
    {
     "name": "stdout",
     "output_type": "stream",
     "text": [
      "28 ('DCMA_13_2.2287_F', 'PSO_32_I')\n"
     ]
    },
    {
     "name": "stderr",
     "output_type": "stream",
     "text": [
      "C:\\Users\\NAVEEN\\Anaconda3\\envs\\newtf\\lib\\site-packages\\ipykernel_launcher.py:22: UserWarning: Boolean Series key will be reindexed to match DataFrame index.\n",
      "C:\\Users\\NAVEEN\\Anaconda3\\envs\\newtf\\lib\\site-packages\\ipykernel_launcher.py:24: UserWarning: Boolean Series key will be reindexed to match DataFrame index.\n"
     ]
    },
    {
     "name": "stdout",
     "output_type": "stream",
     "text": [
      "28 ('DCMA_27_4.1712_T', 'PSO_35_I')\n"
     ]
    },
    {
     "name": "stderr",
     "output_type": "stream",
     "text": [
      "C:\\Users\\NAVEEN\\Anaconda3\\envs\\newtf\\lib\\site-packages\\ipykernel_launcher.py:22: UserWarning: Boolean Series key will be reindexed to match DataFrame index.\n",
      "C:\\Users\\NAVEEN\\Anaconda3\\envs\\newtf\\lib\\site-packages\\ipykernel_launcher.py:24: UserWarning: Boolean Series key will be reindexed to match DataFrame index.\n"
     ]
    },
    {
     "name": "stdout",
     "output_type": "stream",
     "text": [
      "29 ('DCMA_6_2.2202_F', 'PSO_30_I')\n"
     ]
    },
    {
     "name": "stderr",
     "output_type": "stream",
     "text": [
      "C:\\Users\\NAVEEN\\Anaconda3\\envs\\newtf\\lib\\site-packages\\ipykernel_launcher.py:22: UserWarning: Boolean Series key will be reindexed to match DataFrame index.\n",
      "C:\\Users\\NAVEEN\\Anaconda3\\envs\\newtf\\lib\\site-packages\\ipykernel_launcher.py:24: UserWarning: Boolean Series key will be reindexed to match DataFrame index.\n"
     ]
    },
    {
     "name": "stdout",
     "output_type": "stream",
     "text": [
      "29 ('DCMA_8_4.0305_F', 'PSO_30_I')\n"
     ]
    },
    {
     "name": "stderr",
     "output_type": "stream",
     "text": [
      "C:\\Users\\NAVEEN\\Anaconda3\\envs\\newtf\\lib\\site-packages\\ipykernel_launcher.py:22: UserWarning: Boolean Series key will be reindexed to match DataFrame index.\n",
      "C:\\Users\\NAVEEN\\Anaconda3\\envs\\newtf\\lib\\site-packages\\ipykernel_launcher.py:24: UserWarning: Boolean Series key will be reindexed to match DataFrame index.\n"
     ]
    },
    {
     "name": "stdout",
     "output_type": "stream",
     "text": [
      "29 ('DCMA_6_4.029_T', 'PSO_30_I')\n"
     ]
    },
    {
     "name": "stderr",
     "output_type": "stream",
     "text": [
      "C:\\Users\\NAVEEN\\Anaconda3\\envs\\newtf\\lib\\site-packages\\ipykernel_launcher.py:22: UserWarning: Boolean Series key will be reindexed to match DataFrame index.\n",
      "C:\\Users\\NAVEEN\\Anaconda3\\envs\\newtf\\lib\\site-packages\\ipykernel_launcher.py:24: UserWarning: Boolean Series key will be reindexed to match DataFrame index.\n"
     ]
    },
    {
     "name": "stdout",
     "output_type": "stream",
     "text": [
      "29 ('DCMA_7_4.8509_T', 'PSO_30_I')\n"
     ]
    },
    {
     "name": "stderr",
     "output_type": "stream",
     "text": [
      "C:\\Users\\NAVEEN\\Anaconda3\\envs\\newtf\\lib\\site-packages\\ipykernel_launcher.py:22: UserWarning: Boolean Series key will be reindexed to match DataFrame index.\n",
      "C:\\Users\\NAVEEN\\Anaconda3\\envs\\newtf\\lib\\site-packages\\ipykernel_launcher.py:24: UserWarning: Boolean Series key will be reindexed to match DataFrame index.\n"
     ]
    },
    {
     "name": "stdout",
     "output_type": "stream",
     "text": [
      "29 ('DCMA_14_1.4688_T', 'PSO_32_I')\n"
     ]
    },
    {
     "name": "stderr",
     "output_type": "stream",
     "text": [
      "C:\\Users\\NAVEEN\\Anaconda3\\envs\\newtf\\lib\\site-packages\\ipykernel_launcher.py:22: UserWarning: Boolean Series key will be reindexed to match DataFrame index.\n",
      "C:\\Users\\NAVEEN\\Anaconda3\\envs\\newtf\\lib\\site-packages\\ipykernel_launcher.py:24: UserWarning: Boolean Series key will be reindexed to match DataFrame index.\n"
     ]
    },
    {
     "name": "stdout",
     "output_type": "stream",
     "text": [
      "29 ('DCMA_23_3.6117_F', 'PSO_32_I')\n"
     ]
    },
    {
     "name": "stderr",
     "output_type": "stream",
     "text": [
      "C:\\Users\\NAVEEN\\Anaconda3\\envs\\newtf\\lib\\site-packages\\ipykernel_launcher.py:22: UserWarning: Boolean Series key will be reindexed to match DataFrame index.\n",
      "C:\\Users\\NAVEEN\\Anaconda3\\envs\\newtf\\lib\\site-packages\\ipykernel_launcher.py:24: UserWarning: Boolean Series key will be reindexed to match DataFrame index.\n"
     ]
    },
    {
     "name": "stdout",
     "output_type": "stream",
     "text": [
      "29 ('DCMA_13_2.2287_F', 'PSO_32_I')\n"
     ]
    },
    {
     "name": "stderr",
     "output_type": "stream",
     "text": [
      "C:\\Users\\NAVEEN\\Anaconda3\\envs\\newtf\\lib\\site-packages\\ipykernel_launcher.py:22: UserWarning: Boolean Series key will be reindexed to match DataFrame index.\n",
      "C:\\Users\\NAVEEN\\Anaconda3\\envs\\newtf\\lib\\site-packages\\ipykernel_launcher.py:24: UserWarning: Boolean Series key will be reindexed to match DataFrame index.\n"
     ]
    },
    {
     "name": "stdout",
     "output_type": "stream",
     "text": [
      "29 ('DCMA_27_4.1712_T', 'PSO_35_I')\n"
     ]
    },
    {
     "name": "stderr",
     "output_type": "stream",
     "text": [
      "C:\\Users\\NAVEEN\\Anaconda3\\envs\\newtf\\lib\\site-packages\\ipykernel_launcher.py:22: UserWarning: Boolean Series key will be reindexed to match DataFrame index.\n",
      "C:\\Users\\NAVEEN\\Anaconda3\\envs\\newtf\\lib\\site-packages\\ipykernel_launcher.py:24: UserWarning: Boolean Series key will be reindexed to match DataFrame index.\n"
     ]
    },
    {
     "name": "stdout",
     "output_type": "stream",
     "text": [
      "30 ('DCMA_6_2.2202_F', 'PSO_30_I')\n"
     ]
    },
    {
     "name": "stderr",
     "output_type": "stream",
     "text": [
      "C:\\Users\\NAVEEN\\Anaconda3\\envs\\newtf\\lib\\site-packages\\ipykernel_launcher.py:22: UserWarning: Boolean Series key will be reindexed to match DataFrame index.\n",
      "C:\\Users\\NAVEEN\\Anaconda3\\envs\\newtf\\lib\\site-packages\\ipykernel_launcher.py:24: UserWarning: Boolean Series key will be reindexed to match DataFrame index.\n"
     ]
    },
    {
     "name": "stdout",
     "output_type": "stream",
     "text": [
      "30 ('DCMA_8_4.0305_F', 'PSO_30_I')\n"
     ]
    },
    {
     "name": "stderr",
     "output_type": "stream",
     "text": [
      "C:\\Users\\NAVEEN\\Anaconda3\\envs\\newtf\\lib\\site-packages\\ipykernel_launcher.py:22: UserWarning: Boolean Series key will be reindexed to match DataFrame index.\n",
      "C:\\Users\\NAVEEN\\Anaconda3\\envs\\newtf\\lib\\site-packages\\ipykernel_launcher.py:24: UserWarning: Boolean Series key will be reindexed to match DataFrame index.\n"
     ]
    },
    {
     "name": "stdout",
     "output_type": "stream",
     "text": [
      "30 ('DCMA_6_4.029_T', 'PSO_30_I')\n"
     ]
    },
    {
     "name": "stderr",
     "output_type": "stream",
     "text": [
      "C:\\Users\\NAVEEN\\Anaconda3\\envs\\newtf\\lib\\site-packages\\ipykernel_launcher.py:22: UserWarning: Boolean Series key will be reindexed to match DataFrame index.\n",
      "C:\\Users\\NAVEEN\\Anaconda3\\envs\\newtf\\lib\\site-packages\\ipykernel_launcher.py:24: UserWarning: Boolean Series key will be reindexed to match DataFrame index.\n"
     ]
    },
    {
     "name": "stdout",
     "output_type": "stream",
     "text": [
      "30 ('DCMA_7_4.8509_T', 'PSO_30_I')\n"
     ]
    },
    {
     "name": "stderr",
     "output_type": "stream",
     "text": [
      "C:\\Users\\NAVEEN\\Anaconda3\\envs\\newtf\\lib\\site-packages\\ipykernel_launcher.py:22: UserWarning: Boolean Series key will be reindexed to match DataFrame index.\n",
      "C:\\Users\\NAVEEN\\Anaconda3\\envs\\newtf\\lib\\site-packages\\ipykernel_launcher.py:24: UserWarning: Boolean Series key will be reindexed to match DataFrame index.\n"
     ]
    },
    {
     "name": "stdout",
     "output_type": "stream",
     "text": [
      "30 ('DCMA_14_1.4688_T', 'PSO_32_I')\n"
     ]
    },
    {
     "name": "stderr",
     "output_type": "stream",
     "text": [
      "C:\\Users\\NAVEEN\\Anaconda3\\envs\\newtf\\lib\\site-packages\\ipykernel_launcher.py:22: UserWarning: Boolean Series key will be reindexed to match DataFrame index.\n",
      "C:\\Users\\NAVEEN\\Anaconda3\\envs\\newtf\\lib\\site-packages\\ipykernel_launcher.py:24: UserWarning: Boolean Series key will be reindexed to match DataFrame index.\n"
     ]
    },
    {
     "name": "stdout",
     "output_type": "stream",
     "text": [
      "30 ('DCMA_23_3.6117_F', 'PSO_32_I')\n"
     ]
    },
    {
     "name": "stderr",
     "output_type": "stream",
     "text": [
      "C:\\Users\\NAVEEN\\Anaconda3\\envs\\newtf\\lib\\site-packages\\ipykernel_launcher.py:22: UserWarning: Boolean Series key will be reindexed to match DataFrame index.\n",
      "C:\\Users\\NAVEEN\\Anaconda3\\envs\\newtf\\lib\\site-packages\\ipykernel_launcher.py:24: UserWarning: Boolean Series key will be reindexed to match DataFrame index.\n"
     ]
    },
    {
     "name": "stdout",
     "output_type": "stream",
     "text": [
      "30 ('DCMA_13_2.2287_F', 'PSO_32_I')\n"
     ]
    },
    {
     "name": "stderr",
     "output_type": "stream",
     "text": [
      "C:\\Users\\NAVEEN\\Anaconda3\\envs\\newtf\\lib\\site-packages\\ipykernel_launcher.py:22: UserWarning: Boolean Series key will be reindexed to match DataFrame index.\n",
      "C:\\Users\\NAVEEN\\Anaconda3\\envs\\newtf\\lib\\site-packages\\ipykernel_launcher.py:24: UserWarning: Boolean Series key will be reindexed to match DataFrame index.\n"
     ]
    },
    {
     "name": "stdout",
     "output_type": "stream",
     "text": [
      "30 ('DCMA_27_4.1712_T', 'PSO_35_I')\n"
     ]
    },
    {
     "name": "stderr",
     "output_type": "stream",
     "text": [
      "C:\\Users\\NAVEEN\\Anaconda3\\envs\\newtf\\lib\\site-packages\\ipykernel_launcher.py:22: UserWarning: Boolean Series key will be reindexed to match DataFrame index.\n",
      "C:\\Users\\NAVEEN\\Anaconda3\\envs\\newtf\\lib\\site-packages\\ipykernel_launcher.py:24: UserWarning: Boolean Series key will be reindexed to match DataFrame index.\n"
     ]
    },
    {
     "name": "stdout",
     "output_type": "stream",
     "text": [
      "31 ('DCMA_6_2.2202_F', 'PSO_30_I')\n"
     ]
    },
    {
     "name": "stderr",
     "output_type": "stream",
     "text": [
      "C:\\Users\\NAVEEN\\Anaconda3\\envs\\newtf\\lib\\site-packages\\ipykernel_launcher.py:22: UserWarning: Boolean Series key will be reindexed to match DataFrame index.\n",
      "C:\\Users\\NAVEEN\\Anaconda3\\envs\\newtf\\lib\\site-packages\\ipykernel_launcher.py:24: UserWarning: Boolean Series key will be reindexed to match DataFrame index.\n"
     ]
    },
    {
     "name": "stdout",
     "output_type": "stream",
     "text": [
      "31 ('DCMA_8_4.0305_F', 'PSO_30_I')\n"
     ]
    },
    {
     "name": "stderr",
     "output_type": "stream",
     "text": [
      "C:\\Users\\NAVEEN\\Anaconda3\\envs\\newtf\\lib\\site-packages\\ipykernel_launcher.py:22: UserWarning: Boolean Series key will be reindexed to match DataFrame index.\n",
      "C:\\Users\\NAVEEN\\Anaconda3\\envs\\newtf\\lib\\site-packages\\ipykernel_launcher.py:24: UserWarning: Boolean Series key will be reindexed to match DataFrame index.\n"
     ]
    },
    {
     "name": "stdout",
     "output_type": "stream",
     "text": [
      "31 ('DCMA_6_4.029_T', 'PSO_30_I')\n"
     ]
    },
    {
     "name": "stderr",
     "output_type": "stream",
     "text": [
      "C:\\Users\\NAVEEN\\Anaconda3\\envs\\newtf\\lib\\site-packages\\ipykernel_launcher.py:22: UserWarning: Boolean Series key will be reindexed to match DataFrame index.\n",
      "C:\\Users\\NAVEEN\\Anaconda3\\envs\\newtf\\lib\\site-packages\\ipykernel_launcher.py:24: UserWarning: Boolean Series key will be reindexed to match DataFrame index.\n"
     ]
    },
    {
     "name": "stdout",
     "output_type": "stream",
     "text": [
      "31 ('DCMA_7_4.8509_T', 'PSO_30_I')\n"
     ]
    },
    {
     "name": "stderr",
     "output_type": "stream",
     "text": [
      "C:\\Users\\NAVEEN\\Anaconda3\\envs\\newtf\\lib\\site-packages\\ipykernel_launcher.py:22: UserWarning: Boolean Series key will be reindexed to match DataFrame index.\n",
      "C:\\Users\\NAVEEN\\Anaconda3\\envs\\newtf\\lib\\site-packages\\ipykernel_launcher.py:24: UserWarning: Boolean Series key will be reindexed to match DataFrame index.\n"
     ]
    },
    {
     "name": "stdout",
     "output_type": "stream",
     "text": [
      "31 ('DCMA_14_1.4688_T', 'PSO_32_I')\n"
     ]
    },
    {
     "name": "stderr",
     "output_type": "stream",
     "text": [
      "C:\\Users\\NAVEEN\\Anaconda3\\envs\\newtf\\lib\\site-packages\\ipykernel_launcher.py:22: UserWarning: Boolean Series key will be reindexed to match DataFrame index.\n",
      "C:\\Users\\NAVEEN\\Anaconda3\\envs\\newtf\\lib\\site-packages\\ipykernel_launcher.py:24: UserWarning: Boolean Series key will be reindexed to match DataFrame index.\n"
     ]
    },
    {
     "name": "stdout",
     "output_type": "stream",
     "text": [
      "31 ('DCMA_23_3.6117_F', 'PSO_32_I')\n"
     ]
    },
    {
     "name": "stderr",
     "output_type": "stream",
     "text": [
      "C:\\Users\\NAVEEN\\Anaconda3\\envs\\newtf\\lib\\site-packages\\ipykernel_launcher.py:22: UserWarning: Boolean Series key will be reindexed to match DataFrame index.\n",
      "C:\\Users\\NAVEEN\\Anaconda3\\envs\\newtf\\lib\\site-packages\\ipykernel_launcher.py:24: UserWarning: Boolean Series key will be reindexed to match DataFrame index.\n"
     ]
    },
    {
     "name": "stdout",
     "output_type": "stream",
     "text": [
      "31 ('DCMA_13_2.2287_F', 'PSO_32_I')\n"
     ]
    },
    {
     "name": "stderr",
     "output_type": "stream",
     "text": [
      "C:\\Users\\NAVEEN\\Anaconda3\\envs\\newtf\\lib\\site-packages\\ipykernel_launcher.py:22: UserWarning: Boolean Series key will be reindexed to match DataFrame index.\n",
      "C:\\Users\\NAVEEN\\Anaconda3\\envs\\newtf\\lib\\site-packages\\ipykernel_launcher.py:24: UserWarning: Boolean Series key will be reindexed to match DataFrame index.\n"
     ]
    },
    {
     "name": "stdout",
     "output_type": "stream",
     "text": [
      "31 ('DCMA_27_4.1712_T', 'PSO_35_I')\n"
     ]
    },
    {
     "name": "stderr",
     "output_type": "stream",
     "text": [
      "C:\\Users\\NAVEEN\\Anaconda3\\envs\\newtf\\lib\\site-packages\\ipykernel_launcher.py:22: UserWarning: Boolean Series key will be reindexed to match DataFrame index.\n",
      "C:\\Users\\NAVEEN\\Anaconda3\\envs\\newtf\\lib\\site-packages\\ipykernel_launcher.py:24: UserWarning: Boolean Series key will be reindexed to match DataFrame index.\n"
     ]
    },
    {
     "name": "stdout",
     "output_type": "stream",
     "text": [
      "32 ('DCMA_6_2.2202_F', 'PSO_30_I')\n"
     ]
    },
    {
     "name": "stderr",
     "output_type": "stream",
     "text": [
      "C:\\Users\\NAVEEN\\Anaconda3\\envs\\newtf\\lib\\site-packages\\ipykernel_launcher.py:22: UserWarning: Boolean Series key will be reindexed to match DataFrame index.\n",
      "C:\\Users\\NAVEEN\\Anaconda3\\envs\\newtf\\lib\\site-packages\\ipykernel_launcher.py:24: UserWarning: Boolean Series key will be reindexed to match DataFrame index.\n"
     ]
    },
    {
     "name": "stdout",
     "output_type": "stream",
     "text": [
      "32 ('DCMA_8_4.0305_F', 'PSO_30_I')\n"
     ]
    },
    {
     "name": "stderr",
     "output_type": "stream",
     "text": [
      "C:\\Users\\NAVEEN\\Anaconda3\\envs\\newtf\\lib\\site-packages\\ipykernel_launcher.py:22: UserWarning: Boolean Series key will be reindexed to match DataFrame index.\n",
      "C:\\Users\\NAVEEN\\Anaconda3\\envs\\newtf\\lib\\site-packages\\ipykernel_launcher.py:24: UserWarning: Boolean Series key will be reindexed to match DataFrame index.\n"
     ]
    },
    {
     "name": "stdout",
     "output_type": "stream",
     "text": [
      "32 ('DCMA_6_4.029_T', 'PSO_30_I')\n"
     ]
    },
    {
     "name": "stderr",
     "output_type": "stream",
     "text": [
      "C:\\Users\\NAVEEN\\Anaconda3\\envs\\newtf\\lib\\site-packages\\ipykernel_launcher.py:22: UserWarning: Boolean Series key will be reindexed to match DataFrame index.\n",
      "C:\\Users\\NAVEEN\\Anaconda3\\envs\\newtf\\lib\\site-packages\\ipykernel_launcher.py:24: UserWarning: Boolean Series key will be reindexed to match DataFrame index.\n"
     ]
    },
    {
     "name": "stdout",
     "output_type": "stream",
     "text": [
      "32 ('DCMA_7_4.8509_T', 'PSO_30_I')\n"
     ]
    },
    {
     "name": "stderr",
     "output_type": "stream",
     "text": [
      "C:\\Users\\NAVEEN\\Anaconda3\\envs\\newtf\\lib\\site-packages\\ipykernel_launcher.py:22: UserWarning: Boolean Series key will be reindexed to match DataFrame index.\n",
      "C:\\Users\\NAVEEN\\Anaconda3\\envs\\newtf\\lib\\site-packages\\ipykernel_launcher.py:24: UserWarning: Boolean Series key will be reindexed to match DataFrame index.\n"
     ]
    },
    {
     "name": "stdout",
     "output_type": "stream",
     "text": [
      "32 ('DCMA_14_1.4688_T', 'PSO_32_I')\n"
     ]
    },
    {
     "name": "stderr",
     "output_type": "stream",
     "text": [
      "C:\\Users\\NAVEEN\\Anaconda3\\envs\\newtf\\lib\\site-packages\\ipykernel_launcher.py:22: UserWarning: Boolean Series key will be reindexed to match DataFrame index.\n",
      "C:\\Users\\NAVEEN\\Anaconda3\\envs\\newtf\\lib\\site-packages\\ipykernel_launcher.py:24: UserWarning: Boolean Series key will be reindexed to match DataFrame index.\n"
     ]
    },
    {
     "name": "stdout",
     "output_type": "stream",
     "text": [
      "32 ('DCMA_23_3.6117_F', 'PSO_32_I')\n"
     ]
    },
    {
     "name": "stderr",
     "output_type": "stream",
     "text": [
      "C:\\Users\\NAVEEN\\Anaconda3\\envs\\newtf\\lib\\site-packages\\ipykernel_launcher.py:22: UserWarning: Boolean Series key will be reindexed to match DataFrame index.\n",
      "C:\\Users\\NAVEEN\\Anaconda3\\envs\\newtf\\lib\\site-packages\\ipykernel_launcher.py:24: UserWarning: Boolean Series key will be reindexed to match DataFrame index.\n"
     ]
    },
    {
     "name": "stdout",
     "output_type": "stream",
     "text": [
      "32 ('DCMA_13_2.2287_F', 'PSO_32_I')\n"
     ]
    },
    {
     "name": "stderr",
     "output_type": "stream",
     "text": [
      "C:\\Users\\NAVEEN\\Anaconda3\\envs\\newtf\\lib\\site-packages\\ipykernel_launcher.py:22: UserWarning: Boolean Series key will be reindexed to match DataFrame index.\n",
      "C:\\Users\\NAVEEN\\Anaconda3\\envs\\newtf\\lib\\site-packages\\ipykernel_launcher.py:24: UserWarning: Boolean Series key will be reindexed to match DataFrame index.\n"
     ]
    },
    {
     "name": "stdout",
     "output_type": "stream",
     "text": [
      "32 ('DCMA_27_4.1712_T', 'PSO_35_I')\n"
     ]
    },
    {
     "name": "stderr",
     "output_type": "stream",
     "text": [
      "C:\\Users\\NAVEEN\\Anaconda3\\envs\\newtf\\lib\\site-packages\\ipykernel_launcher.py:22: UserWarning: Boolean Series key will be reindexed to match DataFrame index.\n",
      "C:\\Users\\NAVEEN\\Anaconda3\\envs\\newtf\\lib\\site-packages\\ipykernel_launcher.py:24: UserWarning: Boolean Series key will be reindexed to match DataFrame index.\n"
     ]
    },
    {
     "name": "stdout",
     "output_type": "stream",
     "text": [
      "33 ('DCMA_6_2.2202_F', 'PSO_30_I')\n"
     ]
    },
    {
     "name": "stderr",
     "output_type": "stream",
     "text": [
      "C:\\Users\\NAVEEN\\Anaconda3\\envs\\newtf\\lib\\site-packages\\ipykernel_launcher.py:22: UserWarning: Boolean Series key will be reindexed to match DataFrame index.\n",
      "C:\\Users\\NAVEEN\\Anaconda3\\envs\\newtf\\lib\\site-packages\\ipykernel_launcher.py:24: UserWarning: Boolean Series key will be reindexed to match DataFrame index.\n"
     ]
    },
    {
     "name": "stdout",
     "output_type": "stream",
     "text": [
      "33 ('DCMA_8_4.0305_F', 'PSO_30_I')\n"
     ]
    },
    {
     "name": "stderr",
     "output_type": "stream",
     "text": [
      "C:\\Users\\NAVEEN\\Anaconda3\\envs\\newtf\\lib\\site-packages\\ipykernel_launcher.py:22: UserWarning: Boolean Series key will be reindexed to match DataFrame index.\n",
      "C:\\Users\\NAVEEN\\Anaconda3\\envs\\newtf\\lib\\site-packages\\ipykernel_launcher.py:24: UserWarning: Boolean Series key will be reindexed to match DataFrame index.\n"
     ]
    },
    {
     "name": "stdout",
     "output_type": "stream",
     "text": [
      "33 ('DCMA_6_4.029_T', 'PSO_30_I')\n"
     ]
    },
    {
     "name": "stderr",
     "output_type": "stream",
     "text": [
      "C:\\Users\\NAVEEN\\Anaconda3\\envs\\newtf\\lib\\site-packages\\ipykernel_launcher.py:22: UserWarning: Boolean Series key will be reindexed to match DataFrame index.\n",
      "C:\\Users\\NAVEEN\\Anaconda3\\envs\\newtf\\lib\\site-packages\\ipykernel_launcher.py:24: UserWarning: Boolean Series key will be reindexed to match DataFrame index.\n"
     ]
    },
    {
     "name": "stdout",
     "output_type": "stream",
     "text": [
      "33 ('DCMA_7_4.8509_T', 'PSO_30_I')\n"
     ]
    },
    {
     "name": "stderr",
     "output_type": "stream",
     "text": [
      "C:\\Users\\NAVEEN\\Anaconda3\\envs\\newtf\\lib\\site-packages\\ipykernel_launcher.py:22: UserWarning: Boolean Series key will be reindexed to match DataFrame index.\n",
      "C:\\Users\\NAVEEN\\Anaconda3\\envs\\newtf\\lib\\site-packages\\ipykernel_launcher.py:24: UserWarning: Boolean Series key will be reindexed to match DataFrame index.\n"
     ]
    },
    {
     "name": "stdout",
     "output_type": "stream",
     "text": [
      "33 ('DCMA_14_1.4688_T', 'PSO_32_I')\n"
     ]
    },
    {
     "name": "stderr",
     "output_type": "stream",
     "text": [
      "C:\\Users\\NAVEEN\\Anaconda3\\envs\\newtf\\lib\\site-packages\\ipykernel_launcher.py:22: UserWarning: Boolean Series key will be reindexed to match DataFrame index.\n",
      "C:\\Users\\NAVEEN\\Anaconda3\\envs\\newtf\\lib\\site-packages\\ipykernel_launcher.py:24: UserWarning: Boolean Series key will be reindexed to match DataFrame index.\n"
     ]
    },
    {
     "name": "stdout",
     "output_type": "stream",
     "text": [
      "33 ('DCMA_23_3.6117_F', 'PSO_32_I')\n"
     ]
    },
    {
     "name": "stderr",
     "output_type": "stream",
     "text": [
      "C:\\Users\\NAVEEN\\Anaconda3\\envs\\newtf\\lib\\site-packages\\ipykernel_launcher.py:22: UserWarning: Boolean Series key will be reindexed to match DataFrame index.\n",
      "C:\\Users\\NAVEEN\\Anaconda3\\envs\\newtf\\lib\\site-packages\\ipykernel_launcher.py:24: UserWarning: Boolean Series key will be reindexed to match DataFrame index.\n"
     ]
    },
    {
     "name": "stdout",
     "output_type": "stream",
     "text": [
      "33 ('DCMA_13_2.2287_F', 'PSO_32_I')\n"
     ]
    },
    {
     "name": "stderr",
     "output_type": "stream",
     "text": [
      "C:\\Users\\NAVEEN\\Anaconda3\\envs\\newtf\\lib\\site-packages\\ipykernel_launcher.py:22: UserWarning: Boolean Series key will be reindexed to match DataFrame index.\n",
      "C:\\Users\\NAVEEN\\Anaconda3\\envs\\newtf\\lib\\site-packages\\ipykernel_launcher.py:24: UserWarning: Boolean Series key will be reindexed to match DataFrame index.\n"
     ]
    },
    {
     "name": "stdout",
     "output_type": "stream",
     "text": [
      "33 ('DCMA_27_4.1712_T', 'PSO_35_I')\n"
     ]
    },
    {
     "name": "stderr",
     "output_type": "stream",
     "text": [
      "C:\\Users\\NAVEEN\\Anaconda3\\envs\\newtf\\lib\\site-packages\\ipykernel_launcher.py:22: UserWarning: Boolean Series key will be reindexed to match DataFrame index.\n",
      "C:\\Users\\NAVEEN\\Anaconda3\\envs\\newtf\\lib\\site-packages\\ipykernel_launcher.py:24: UserWarning: Boolean Series key will be reindexed to match DataFrame index.\n"
     ]
    },
    {
     "name": "stdout",
     "output_type": "stream",
     "text": [
      "34 ('DCMA_6_2.2202_F', 'PSO_30_I')\n"
     ]
    },
    {
     "name": "stderr",
     "output_type": "stream",
     "text": [
      "C:\\Users\\NAVEEN\\Anaconda3\\envs\\newtf\\lib\\site-packages\\ipykernel_launcher.py:22: UserWarning: Boolean Series key will be reindexed to match DataFrame index.\n",
      "C:\\Users\\NAVEEN\\Anaconda3\\envs\\newtf\\lib\\site-packages\\ipykernel_launcher.py:24: UserWarning: Boolean Series key will be reindexed to match DataFrame index.\n"
     ]
    },
    {
     "name": "stdout",
     "output_type": "stream",
     "text": [
      "34 ('DCMA_8_4.0305_F', 'PSO_30_I')\n"
     ]
    },
    {
     "name": "stderr",
     "output_type": "stream",
     "text": [
      "C:\\Users\\NAVEEN\\Anaconda3\\envs\\newtf\\lib\\site-packages\\ipykernel_launcher.py:22: UserWarning: Boolean Series key will be reindexed to match DataFrame index.\n",
      "C:\\Users\\NAVEEN\\Anaconda3\\envs\\newtf\\lib\\site-packages\\ipykernel_launcher.py:24: UserWarning: Boolean Series key will be reindexed to match DataFrame index.\n"
     ]
    },
    {
     "name": "stdout",
     "output_type": "stream",
     "text": [
      "34 ('DCMA_6_4.029_T', 'PSO_30_I')\n"
     ]
    },
    {
     "name": "stderr",
     "output_type": "stream",
     "text": [
      "C:\\Users\\NAVEEN\\Anaconda3\\envs\\newtf\\lib\\site-packages\\ipykernel_launcher.py:22: UserWarning: Boolean Series key will be reindexed to match DataFrame index.\n",
      "C:\\Users\\NAVEEN\\Anaconda3\\envs\\newtf\\lib\\site-packages\\ipykernel_launcher.py:24: UserWarning: Boolean Series key will be reindexed to match DataFrame index.\n"
     ]
    },
    {
     "name": "stdout",
     "output_type": "stream",
     "text": [
      "34 ('DCMA_7_4.8509_T', 'PSO_30_I')\n"
     ]
    },
    {
     "name": "stderr",
     "output_type": "stream",
     "text": [
      "C:\\Users\\NAVEEN\\Anaconda3\\envs\\newtf\\lib\\site-packages\\ipykernel_launcher.py:22: UserWarning: Boolean Series key will be reindexed to match DataFrame index.\n",
      "C:\\Users\\NAVEEN\\Anaconda3\\envs\\newtf\\lib\\site-packages\\ipykernel_launcher.py:24: UserWarning: Boolean Series key will be reindexed to match DataFrame index.\n"
     ]
    },
    {
     "name": "stdout",
     "output_type": "stream",
     "text": [
      "34 ('DCMA_14_1.4688_T', 'PSO_32_I')\n"
     ]
    },
    {
     "name": "stderr",
     "output_type": "stream",
     "text": [
      "C:\\Users\\NAVEEN\\Anaconda3\\envs\\newtf\\lib\\site-packages\\ipykernel_launcher.py:22: UserWarning: Boolean Series key will be reindexed to match DataFrame index.\n",
      "C:\\Users\\NAVEEN\\Anaconda3\\envs\\newtf\\lib\\site-packages\\ipykernel_launcher.py:24: UserWarning: Boolean Series key will be reindexed to match DataFrame index.\n"
     ]
    },
    {
     "name": "stdout",
     "output_type": "stream",
     "text": [
      "34 ('DCMA_23_3.6117_F', 'PSO_32_I')\n"
     ]
    },
    {
     "name": "stderr",
     "output_type": "stream",
     "text": [
      "C:\\Users\\NAVEEN\\Anaconda3\\envs\\newtf\\lib\\site-packages\\ipykernel_launcher.py:22: UserWarning: Boolean Series key will be reindexed to match DataFrame index.\n",
      "C:\\Users\\NAVEEN\\Anaconda3\\envs\\newtf\\lib\\site-packages\\ipykernel_launcher.py:24: UserWarning: Boolean Series key will be reindexed to match DataFrame index.\n"
     ]
    },
    {
     "name": "stdout",
     "output_type": "stream",
     "text": [
      "34 ('DCMA_13_2.2287_F', 'PSO_32_I')\n"
     ]
    },
    {
     "name": "stderr",
     "output_type": "stream",
     "text": [
      "C:\\Users\\NAVEEN\\Anaconda3\\envs\\newtf\\lib\\site-packages\\ipykernel_launcher.py:22: UserWarning: Boolean Series key will be reindexed to match DataFrame index.\n",
      "C:\\Users\\NAVEEN\\Anaconda3\\envs\\newtf\\lib\\site-packages\\ipykernel_launcher.py:24: UserWarning: Boolean Series key will be reindexed to match DataFrame index.\n"
     ]
    },
    {
     "name": "stdout",
     "output_type": "stream",
     "text": [
      "34 ('DCMA_27_4.1712_T', 'PSO_35_I')\n"
     ]
    },
    {
     "name": "stderr",
     "output_type": "stream",
     "text": [
      "C:\\Users\\NAVEEN\\Anaconda3\\envs\\newtf\\lib\\site-packages\\ipykernel_launcher.py:22: UserWarning: Boolean Series key will be reindexed to match DataFrame index.\n",
      "C:\\Users\\NAVEEN\\Anaconda3\\envs\\newtf\\lib\\site-packages\\ipykernel_launcher.py:24: UserWarning: Boolean Series key will be reindexed to match DataFrame index.\n"
     ]
    },
    {
     "name": "stdout",
     "output_type": "stream",
     "text": [
      "35 ('DCMA_6_2.2202_F', 'PSO_30_I')\n"
     ]
    },
    {
     "name": "stderr",
     "output_type": "stream",
     "text": [
      "C:\\Users\\NAVEEN\\Anaconda3\\envs\\newtf\\lib\\site-packages\\ipykernel_launcher.py:22: UserWarning: Boolean Series key will be reindexed to match DataFrame index.\n",
      "C:\\Users\\NAVEEN\\Anaconda3\\envs\\newtf\\lib\\site-packages\\ipykernel_launcher.py:24: UserWarning: Boolean Series key will be reindexed to match DataFrame index.\n"
     ]
    },
    {
     "name": "stdout",
     "output_type": "stream",
     "text": [
      "35 ('DCMA_8_4.0305_F', 'PSO_30_I')\n"
     ]
    },
    {
     "name": "stderr",
     "output_type": "stream",
     "text": [
      "C:\\Users\\NAVEEN\\Anaconda3\\envs\\newtf\\lib\\site-packages\\ipykernel_launcher.py:22: UserWarning: Boolean Series key will be reindexed to match DataFrame index.\n",
      "C:\\Users\\NAVEEN\\Anaconda3\\envs\\newtf\\lib\\site-packages\\ipykernel_launcher.py:24: UserWarning: Boolean Series key will be reindexed to match DataFrame index.\n"
     ]
    },
    {
     "name": "stdout",
     "output_type": "stream",
     "text": [
      "35 ('DCMA_6_4.029_T', 'PSO_30_I')\n"
     ]
    },
    {
     "name": "stderr",
     "output_type": "stream",
     "text": [
      "C:\\Users\\NAVEEN\\Anaconda3\\envs\\newtf\\lib\\site-packages\\ipykernel_launcher.py:22: UserWarning: Boolean Series key will be reindexed to match DataFrame index.\n",
      "C:\\Users\\NAVEEN\\Anaconda3\\envs\\newtf\\lib\\site-packages\\ipykernel_launcher.py:24: UserWarning: Boolean Series key will be reindexed to match DataFrame index.\n"
     ]
    },
    {
     "name": "stdout",
     "output_type": "stream",
     "text": [
      "35 ('DCMA_7_4.8509_T', 'PSO_30_I')\n"
     ]
    },
    {
     "name": "stderr",
     "output_type": "stream",
     "text": [
      "C:\\Users\\NAVEEN\\Anaconda3\\envs\\newtf\\lib\\site-packages\\ipykernel_launcher.py:22: UserWarning: Boolean Series key will be reindexed to match DataFrame index.\n",
      "C:\\Users\\NAVEEN\\Anaconda3\\envs\\newtf\\lib\\site-packages\\ipykernel_launcher.py:24: UserWarning: Boolean Series key will be reindexed to match DataFrame index.\n"
     ]
    },
    {
     "name": "stdout",
     "output_type": "stream",
     "text": [
      "35 ('DCMA_14_1.4688_T', 'PSO_32_I')\n"
     ]
    },
    {
     "name": "stderr",
     "output_type": "stream",
     "text": [
      "C:\\Users\\NAVEEN\\Anaconda3\\envs\\newtf\\lib\\site-packages\\ipykernel_launcher.py:22: UserWarning: Boolean Series key will be reindexed to match DataFrame index.\n",
      "C:\\Users\\NAVEEN\\Anaconda3\\envs\\newtf\\lib\\site-packages\\ipykernel_launcher.py:24: UserWarning: Boolean Series key will be reindexed to match DataFrame index.\n"
     ]
    },
    {
     "name": "stdout",
     "output_type": "stream",
     "text": [
      "35 ('DCMA_23_3.6117_F', 'PSO_32_I')\n"
     ]
    },
    {
     "name": "stderr",
     "output_type": "stream",
     "text": [
      "C:\\Users\\NAVEEN\\Anaconda3\\envs\\newtf\\lib\\site-packages\\ipykernel_launcher.py:22: UserWarning: Boolean Series key will be reindexed to match DataFrame index.\n",
      "C:\\Users\\NAVEEN\\Anaconda3\\envs\\newtf\\lib\\site-packages\\ipykernel_launcher.py:24: UserWarning: Boolean Series key will be reindexed to match DataFrame index.\n"
     ]
    },
    {
     "name": "stdout",
     "output_type": "stream",
     "text": [
      "35 ('DCMA_13_2.2287_F', 'PSO_32_I')\n"
     ]
    },
    {
     "name": "stderr",
     "output_type": "stream",
     "text": [
      "C:\\Users\\NAVEEN\\Anaconda3\\envs\\newtf\\lib\\site-packages\\ipykernel_launcher.py:22: UserWarning: Boolean Series key will be reindexed to match DataFrame index.\n",
      "C:\\Users\\NAVEEN\\Anaconda3\\envs\\newtf\\lib\\site-packages\\ipykernel_launcher.py:24: UserWarning: Boolean Series key will be reindexed to match DataFrame index.\n"
     ]
    },
    {
     "name": "stdout",
     "output_type": "stream",
     "text": [
      "35 ('DCMA_27_4.1712_T', 'PSO_35_I')\n"
     ]
    },
    {
     "name": "stderr",
     "output_type": "stream",
     "text": [
      "C:\\Users\\NAVEEN\\Anaconda3\\envs\\newtf\\lib\\site-packages\\ipykernel_launcher.py:22: UserWarning: Boolean Series key will be reindexed to match DataFrame index.\n",
      "C:\\Users\\NAVEEN\\Anaconda3\\envs\\newtf\\lib\\site-packages\\ipykernel_launcher.py:24: UserWarning: Boolean Series key will be reindexed to match DataFrame index.\n"
     ]
    },
    {
     "name": "stdout",
     "output_type": "stream",
     "text": [
      "36 ('DCMA_6_2.2202_F', 'PSO_30_I')\n"
     ]
    },
    {
     "name": "stderr",
     "output_type": "stream",
     "text": [
      "C:\\Users\\NAVEEN\\Anaconda3\\envs\\newtf\\lib\\site-packages\\ipykernel_launcher.py:22: UserWarning: Boolean Series key will be reindexed to match DataFrame index.\n",
      "C:\\Users\\NAVEEN\\Anaconda3\\envs\\newtf\\lib\\site-packages\\ipykernel_launcher.py:24: UserWarning: Boolean Series key will be reindexed to match DataFrame index.\n"
     ]
    },
    {
     "name": "stdout",
     "output_type": "stream",
     "text": [
      "36 ('DCMA_8_4.0305_F', 'PSO_30_I')\n"
     ]
    },
    {
     "name": "stderr",
     "output_type": "stream",
     "text": [
      "C:\\Users\\NAVEEN\\Anaconda3\\envs\\newtf\\lib\\site-packages\\ipykernel_launcher.py:22: UserWarning: Boolean Series key will be reindexed to match DataFrame index.\n",
      "C:\\Users\\NAVEEN\\Anaconda3\\envs\\newtf\\lib\\site-packages\\ipykernel_launcher.py:24: UserWarning: Boolean Series key will be reindexed to match DataFrame index.\n"
     ]
    },
    {
     "name": "stdout",
     "output_type": "stream",
     "text": [
      "36 ('DCMA_6_4.029_T', 'PSO_30_I')\n"
     ]
    },
    {
     "name": "stderr",
     "output_type": "stream",
     "text": [
      "C:\\Users\\NAVEEN\\Anaconda3\\envs\\newtf\\lib\\site-packages\\ipykernel_launcher.py:22: UserWarning: Boolean Series key will be reindexed to match DataFrame index.\n",
      "C:\\Users\\NAVEEN\\Anaconda3\\envs\\newtf\\lib\\site-packages\\ipykernel_launcher.py:24: UserWarning: Boolean Series key will be reindexed to match DataFrame index.\n"
     ]
    },
    {
     "name": "stdout",
     "output_type": "stream",
     "text": [
      "36 ('DCMA_7_4.8509_T', 'PSO_30_I')\n"
     ]
    },
    {
     "name": "stderr",
     "output_type": "stream",
     "text": [
      "C:\\Users\\NAVEEN\\Anaconda3\\envs\\newtf\\lib\\site-packages\\ipykernel_launcher.py:22: UserWarning: Boolean Series key will be reindexed to match DataFrame index.\n",
      "C:\\Users\\NAVEEN\\Anaconda3\\envs\\newtf\\lib\\site-packages\\ipykernel_launcher.py:24: UserWarning: Boolean Series key will be reindexed to match DataFrame index.\n"
     ]
    },
    {
     "name": "stdout",
     "output_type": "stream",
     "text": [
      "36 ('DCMA_14_1.4688_T', 'PSO_32_I')\n"
     ]
    },
    {
     "name": "stderr",
     "output_type": "stream",
     "text": [
      "C:\\Users\\NAVEEN\\Anaconda3\\envs\\newtf\\lib\\site-packages\\ipykernel_launcher.py:22: UserWarning: Boolean Series key will be reindexed to match DataFrame index.\n",
      "C:\\Users\\NAVEEN\\Anaconda3\\envs\\newtf\\lib\\site-packages\\ipykernel_launcher.py:24: UserWarning: Boolean Series key will be reindexed to match DataFrame index.\n"
     ]
    },
    {
     "name": "stdout",
     "output_type": "stream",
     "text": [
      "36 ('DCMA_23_3.6117_F', 'PSO_32_I')\n"
     ]
    },
    {
     "name": "stderr",
     "output_type": "stream",
     "text": [
      "C:\\Users\\NAVEEN\\Anaconda3\\envs\\newtf\\lib\\site-packages\\ipykernel_launcher.py:22: UserWarning: Boolean Series key will be reindexed to match DataFrame index.\n",
      "C:\\Users\\NAVEEN\\Anaconda3\\envs\\newtf\\lib\\site-packages\\ipykernel_launcher.py:24: UserWarning: Boolean Series key will be reindexed to match DataFrame index.\n"
     ]
    },
    {
     "name": "stdout",
     "output_type": "stream",
     "text": [
      "36 ('DCMA_13_2.2287_F', 'PSO_32_I')\n"
     ]
    },
    {
     "name": "stderr",
     "output_type": "stream",
     "text": [
      "C:\\Users\\NAVEEN\\Anaconda3\\envs\\newtf\\lib\\site-packages\\ipykernel_launcher.py:22: UserWarning: Boolean Series key will be reindexed to match DataFrame index.\n",
      "C:\\Users\\NAVEEN\\Anaconda3\\envs\\newtf\\lib\\site-packages\\ipykernel_launcher.py:24: UserWarning: Boolean Series key will be reindexed to match DataFrame index.\n"
     ]
    },
    {
     "name": "stdout",
     "output_type": "stream",
     "text": [
      "36 ('DCMA_27_4.1712_T', 'PSO_35_I')\n"
     ]
    },
    {
     "name": "stderr",
     "output_type": "stream",
     "text": [
      "C:\\Users\\NAVEEN\\Anaconda3\\envs\\newtf\\lib\\site-packages\\ipykernel_launcher.py:22: UserWarning: Boolean Series key will be reindexed to match DataFrame index.\n",
      "C:\\Users\\NAVEEN\\Anaconda3\\envs\\newtf\\lib\\site-packages\\ipykernel_launcher.py:24: UserWarning: Boolean Series key will be reindexed to match DataFrame index.\n"
     ]
    },
    {
     "name": "stdout",
     "output_type": "stream",
     "text": [
      "37 ('DCMA_6_2.2202_F', 'PSO_30_I')\n"
     ]
    },
    {
     "name": "stderr",
     "output_type": "stream",
     "text": [
      "C:\\Users\\NAVEEN\\Anaconda3\\envs\\newtf\\lib\\site-packages\\ipykernel_launcher.py:22: UserWarning: Boolean Series key will be reindexed to match DataFrame index.\n",
      "C:\\Users\\NAVEEN\\Anaconda3\\envs\\newtf\\lib\\site-packages\\ipykernel_launcher.py:24: UserWarning: Boolean Series key will be reindexed to match DataFrame index.\n"
     ]
    },
    {
     "name": "stdout",
     "output_type": "stream",
     "text": [
      "37 ('DCMA_8_4.0305_F', 'PSO_30_I')\n"
     ]
    },
    {
     "name": "stderr",
     "output_type": "stream",
     "text": [
      "C:\\Users\\NAVEEN\\Anaconda3\\envs\\newtf\\lib\\site-packages\\ipykernel_launcher.py:22: UserWarning: Boolean Series key will be reindexed to match DataFrame index.\n",
      "C:\\Users\\NAVEEN\\Anaconda3\\envs\\newtf\\lib\\site-packages\\ipykernel_launcher.py:24: UserWarning: Boolean Series key will be reindexed to match DataFrame index.\n"
     ]
    },
    {
     "name": "stdout",
     "output_type": "stream",
     "text": [
      "37 ('DCMA_6_4.029_T', 'PSO_30_I')\n"
     ]
    },
    {
     "name": "stderr",
     "output_type": "stream",
     "text": [
      "C:\\Users\\NAVEEN\\Anaconda3\\envs\\newtf\\lib\\site-packages\\ipykernel_launcher.py:22: UserWarning: Boolean Series key will be reindexed to match DataFrame index.\n",
      "C:\\Users\\NAVEEN\\Anaconda3\\envs\\newtf\\lib\\site-packages\\ipykernel_launcher.py:24: UserWarning: Boolean Series key will be reindexed to match DataFrame index.\n"
     ]
    },
    {
     "name": "stdout",
     "output_type": "stream",
     "text": [
      "37 ('DCMA_7_4.8509_T', 'PSO_30_I')\n"
     ]
    },
    {
     "name": "stderr",
     "output_type": "stream",
     "text": [
      "C:\\Users\\NAVEEN\\Anaconda3\\envs\\newtf\\lib\\site-packages\\ipykernel_launcher.py:22: UserWarning: Boolean Series key will be reindexed to match DataFrame index.\n",
      "C:\\Users\\NAVEEN\\Anaconda3\\envs\\newtf\\lib\\site-packages\\ipykernel_launcher.py:24: UserWarning: Boolean Series key will be reindexed to match DataFrame index.\n"
     ]
    },
    {
     "name": "stdout",
     "output_type": "stream",
     "text": [
      "37 ('DCMA_14_1.4688_T', 'PSO_32_I')\n"
     ]
    },
    {
     "name": "stderr",
     "output_type": "stream",
     "text": [
      "C:\\Users\\NAVEEN\\Anaconda3\\envs\\newtf\\lib\\site-packages\\ipykernel_launcher.py:22: UserWarning: Boolean Series key will be reindexed to match DataFrame index.\n",
      "C:\\Users\\NAVEEN\\Anaconda3\\envs\\newtf\\lib\\site-packages\\ipykernel_launcher.py:24: UserWarning: Boolean Series key will be reindexed to match DataFrame index.\n"
     ]
    },
    {
     "name": "stdout",
     "output_type": "stream",
     "text": [
      "37 ('DCMA_23_3.6117_F', 'PSO_32_I')\n"
     ]
    },
    {
     "name": "stderr",
     "output_type": "stream",
     "text": [
      "C:\\Users\\NAVEEN\\Anaconda3\\envs\\newtf\\lib\\site-packages\\ipykernel_launcher.py:22: UserWarning: Boolean Series key will be reindexed to match DataFrame index.\n",
      "C:\\Users\\NAVEEN\\Anaconda3\\envs\\newtf\\lib\\site-packages\\ipykernel_launcher.py:24: UserWarning: Boolean Series key will be reindexed to match DataFrame index.\n"
     ]
    },
    {
     "name": "stdout",
     "output_type": "stream",
     "text": [
      "37 ('DCMA_13_2.2287_F', 'PSO_32_I')\n"
     ]
    },
    {
     "name": "stderr",
     "output_type": "stream",
     "text": [
      "C:\\Users\\NAVEEN\\Anaconda3\\envs\\newtf\\lib\\site-packages\\ipykernel_launcher.py:22: UserWarning: Boolean Series key will be reindexed to match DataFrame index.\n",
      "C:\\Users\\NAVEEN\\Anaconda3\\envs\\newtf\\lib\\site-packages\\ipykernel_launcher.py:24: UserWarning: Boolean Series key will be reindexed to match DataFrame index.\n"
     ]
    },
    {
     "name": "stdout",
     "output_type": "stream",
     "text": [
      "37 ('DCMA_27_4.1712_T', 'PSO_35_I')\n"
     ]
    },
    {
     "name": "stderr",
     "output_type": "stream",
     "text": [
      "C:\\Users\\NAVEEN\\Anaconda3\\envs\\newtf\\lib\\site-packages\\ipykernel_launcher.py:22: UserWarning: Boolean Series key will be reindexed to match DataFrame index.\n",
      "C:\\Users\\NAVEEN\\Anaconda3\\envs\\newtf\\lib\\site-packages\\ipykernel_launcher.py:24: UserWarning: Boolean Series key will be reindexed to match DataFrame index.\n"
     ]
    },
    {
     "name": "stdout",
     "output_type": "stream",
     "text": [
      "38 ('DCMA_6_2.2202_F', 'PSO_30_I')\n"
     ]
    },
    {
     "name": "stderr",
     "output_type": "stream",
     "text": [
      "C:\\Users\\NAVEEN\\Anaconda3\\envs\\newtf\\lib\\site-packages\\ipykernel_launcher.py:22: UserWarning: Boolean Series key will be reindexed to match DataFrame index.\n",
      "C:\\Users\\NAVEEN\\Anaconda3\\envs\\newtf\\lib\\site-packages\\ipykernel_launcher.py:24: UserWarning: Boolean Series key will be reindexed to match DataFrame index.\n"
     ]
    },
    {
     "name": "stdout",
     "output_type": "stream",
     "text": [
      "38 ('DCMA_8_4.0305_F', 'PSO_30_I')\n"
     ]
    },
    {
     "name": "stderr",
     "output_type": "stream",
     "text": [
      "C:\\Users\\NAVEEN\\Anaconda3\\envs\\newtf\\lib\\site-packages\\ipykernel_launcher.py:22: UserWarning: Boolean Series key will be reindexed to match DataFrame index.\n",
      "C:\\Users\\NAVEEN\\Anaconda3\\envs\\newtf\\lib\\site-packages\\ipykernel_launcher.py:24: UserWarning: Boolean Series key will be reindexed to match DataFrame index.\n"
     ]
    },
    {
     "name": "stdout",
     "output_type": "stream",
     "text": [
      "38 ('DCMA_6_4.029_T', 'PSO_30_I')\n"
     ]
    },
    {
     "name": "stderr",
     "output_type": "stream",
     "text": [
      "C:\\Users\\NAVEEN\\Anaconda3\\envs\\newtf\\lib\\site-packages\\ipykernel_launcher.py:22: UserWarning: Boolean Series key will be reindexed to match DataFrame index.\n",
      "C:\\Users\\NAVEEN\\Anaconda3\\envs\\newtf\\lib\\site-packages\\ipykernel_launcher.py:24: UserWarning: Boolean Series key will be reindexed to match DataFrame index.\n"
     ]
    },
    {
     "name": "stdout",
     "output_type": "stream",
     "text": [
      "38 ('DCMA_7_4.8509_T', 'PSO_30_I')\n"
     ]
    },
    {
     "name": "stderr",
     "output_type": "stream",
     "text": [
      "C:\\Users\\NAVEEN\\Anaconda3\\envs\\newtf\\lib\\site-packages\\ipykernel_launcher.py:22: UserWarning: Boolean Series key will be reindexed to match DataFrame index.\n",
      "C:\\Users\\NAVEEN\\Anaconda3\\envs\\newtf\\lib\\site-packages\\ipykernel_launcher.py:24: UserWarning: Boolean Series key will be reindexed to match DataFrame index.\n"
     ]
    },
    {
     "name": "stdout",
     "output_type": "stream",
     "text": [
      "38 ('DCMA_14_1.4688_T', 'PSO_32_I')\n"
     ]
    },
    {
     "name": "stderr",
     "output_type": "stream",
     "text": [
      "C:\\Users\\NAVEEN\\Anaconda3\\envs\\newtf\\lib\\site-packages\\ipykernel_launcher.py:22: UserWarning: Boolean Series key will be reindexed to match DataFrame index.\n",
      "C:\\Users\\NAVEEN\\Anaconda3\\envs\\newtf\\lib\\site-packages\\ipykernel_launcher.py:24: UserWarning: Boolean Series key will be reindexed to match DataFrame index.\n"
     ]
    },
    {
     "name": "stdout",
     "output_type": "stream",
     "text": [
      "38 ('DCMA_23_3.6117_F', 'PSO_32_I')\n"
     ]
    },
    {
     "name": "stderr",
     "output_type": "stream",
     "text": [
      "C:\\Users\\NAVEEN\\Anaconda3\\envs\\newtf\\lib\\site-packages\\ipykernel_launcher.py:22: UserWarning: Boolean Series key will be reindexed to match DataFrame index.\n",
      "C:\\Users\\NAVEEN\\Anaconda3\\envs\\newtf\\lib\\site-packages\\ipykernel_launcher.py:24: UserWarning: Boolean Series key will be reindexed to match DataFrame index.\n"
     ]
    },
    {
     "name": "stdout",
     "output_type": "stream",
     "text": [
      "38 ('DCMA_13_2.2287_F', 'PSO_32_I')\n"
     ]
    },
    {
     "name": "stderr",
     "output_type": "stream",
     "text": [
      "C:\\Users\\NAVEEN\\Anaconda3\\envs\\newtf\\lib\\site-packages\\ipykernel_launcher.py:22: UserWarning: Boolean Series key will be reindexed to match DataFrame index.\n",
      "C:\\Users\\NAVEEN\\Anaconda3\\envs\\newtf\\lib\\site-packages\\ipykernel_launcher.py:24: UserWarning: Boolean Series key will be reindexed to match DataFrame index.\n"
     ]
    },
    {
     "name": "stdout",
     "output_type": "stream",
     "text": [
      "38 ('DCMA_27_4.1712_T', 'PSO_35_I')\n"
     ]
    },
    {
     "name": "stderr",
     "output_type": "stream",
     "text": [
      "C:\\Users\\NAVEEN\\Anaconda3\\envs\\newtf\\lib\\site-packages\\ipykernel_launcher.py:22: UserWarning: Boolean Series key will be reindexed to match DataFrame index.\n",
      "C:\\Users\\NAVEEN\\Anaconda3\\envs\\newtf\\lib\\site-packages\\ipykernel_launcher.py:24: UserWarning: Boolean Series key will be reindexed to match DataFrame index.\n"
     ]
    },
    {
     "name": "stdout",
     "output_type": "stream",
     "text": [
      "39 ('DCMA_6_2.2202_F', 'PSO_30_I')\n"
     ]
    },
    {
     "name": "stderr",
     "output_type": "stream",
     "text": [
      "C:\\Users\\NAVEEN\\Anaconda3\\envs\\newtf\\lib\\site-packages\\ipykernel_launcher.py:22: UserWarning: Boolean Series key will be reindexed to match DataFrame index.\n",
      "C:\\Users\\NAVEEN\\Anaconda3\\envs\\newtf\\lib\\site-packages\\ipykernel_launcher.py:24: UserWarning: Boolean Series key will be reindexed to match DataFrame index.\n"
     ]
    },
    {
     "name": "stdout",
     "output_type": "stream",
     "text": [
      "39 ('DCMA_8_4.0305_F', 'PSO_30_I')\n"
     ]
    },
    {
     "name": "stderr",
     "output_type": "stream",
     "text": [
      "C:\\Users\\NAVEEN\\Anaconda3\\envs\\newtf\\lib\\site-packages\\ipykernel_launcher.py:22: UserWarning: Boolean Series key will be reindexed to match DataFrame index.\n",
      "C:\\Users\\NAVEEN\\Anaconda3\\envs\\newtf\\lib\\site-packages\\ipykernel_launcher.py:24: UserWarning: Boolean Series key will be reindexed to match DataFrame index.\n"
     ]
    },
    {
     "name": "stdout",
     "output_type": "stream",
     "text": [
      "39 ('DCMA_6_4.029_T', 'PSO_30_I')\n"
     ]
    },
    {
     "name": "stderr",
     "output_type": "stream",
     "text": [
      "C:\\Users\\NAVEEN\\Anaconda3\\envs\\newtf\\lib\\site-packages\\ipykernel_launcher.py:22: UserWarning: Boolean Series key will be reindexed to match DataFrame index.\n",
      "C:\\Users\\NAVEEN\\Anaconda3\\envs\\newtf\\lib\\site-packages\\ipykernel_launcher.py:24: UserWarning: Boolean Series key will be reindexed to match DataFrame index.\n"
     ]
    },
    {
     "name": "stdout",
     "output_type": "stream",
     "text": [
      "39 ('DCMA_7_4.8509_T', 'PSO_30_I')\n"
     ]
    },
    {
     "name": "stderr",
     "output_type": "stream",
     "text": [
      "C:\\Users\\NAVEEN\\Anaconda3\\envs\\newtf\\lib\\site-packages\\ipykernel_launcher.py:22: UserWarning: Boolean Series key will be reindexed to match DataFrame index.\n",
      "C:\\Users\\NAVEEN\\Anaconda3\\envs\\newtf\\lib\\site-packages\\ipykernel_launcher.py:24: UserWarning: Boolean Series key will be reindexed to match DataFrame index.\n"
     ]
    },
    {
     "name": "stdout",
     "output_type": "stream",
     "text": [
      "39 ('DCMA_14_1.4688_T', 'PSO_32_I')\n"
     ]
    },
    {
     "name": "stderr",
     "output_type": "stream",
     "text": [
      "C:\\Users\\NAVEEN\\Anaconda3\\envs\\newtf\\lib\\site-packages\\ipykernel_launcher.py:22: UserWarning: Boolean Series key will be reindexed to match DataFrame index.\n",
      "C:\\Users\\NAVEEN\\Anaconda3\\envs\\newtf\\lib\\site-packages\\ipykernel_launcher.py:24: UserWarning: Boolean Series key will be reindexed to match DataFrame index.\n"
     ]
    },
    {
     "name": "stdout",
     "output_type": "stream",
     "text": [
      "39 ('DCMA_23_3.6117_F', 'PSO_32_I')\n"
     ]
    },
    {
     "name": "stderr",
     "output_type": "stream",
     "text": [
      "C:\\Users\\NAVEEN\\Anaconda3\\envs\\newtf\\lib\\site-packages\\ipykernel_launcher.py:22: UserWarning: Boolean Series key will be reindexed to match DataFrame index.\n",
      "C:\\Users\\NAVEEN\\Anaconda3\\envs\\newtf\\lib\\site-packages\\ipykernel_launcher.py:24: UserWarning: Boolean Series key will be reindexed to match DataFrame index.\n"
     ]
    },
    {
     "name": "stdout",
     "output_type": "stream",
     "text": [
      "39 ('DCMA_13_2.2287_F', 'PSO_32_I')\n"
     ]
    },
    {
     "name": "stderr",
     "output_type": "stream",
     "text": [
      "C:\\Users\\NAVEEN\\Anaconda3\\envs\\newtf\\lib\\site-packages\\ipykernel_launcher.py:22: UserWarning: Boolean Series key will be reindexed to match DataFrame index.\n",
      "C:\\Users\\NAVEEN\\Anaconda3\\envs\\newtf\\lib\\site-packages\\ipykernel_launcher.py:24: UserWarning: Boolean Series key will be reindexed to match DataFrame index.\n"
     ]
    },
    {
     "name": "stdout",
     "output_type": "stream",
     "text": [
      "39 ('DCMA_27_4.1712_T', 'PSO_35_I')\n"
     ]
    },
    {
     "name": "stderr",
     "output_type": "stream",
     "text": [
      "C:\\Users\\NAVEEN\\Anaconda3\\envs\\newtf\\lib\\site-packages\\ipykernel_launcher.py:22: UserWarning: Boolean Series key will be reindexed to match DataFrame index.\n",
      "C:\\Users\\NAVEEN\\Anaconda3\\envs\\newtf\\lib\\site-packages\\ipykernel_launcher.py:24: UserWarning: Boolean Series key will be reindexed to match DataFrame index.\n"
     ]
    },
    {
     "name": "stdout",
     "output_type": "stream",
     "text": [
      "40 ('DCMA_6_2.2202_F', 'PSO_30_I')\n"
     ]
    },
    {
     "name": "stderr",
     "output_type": "stream",
     "text": [
      "C:\\Users\\NAVEEN\\Anaconda3\\envs\\newtf\\lib\\site-packages\\ipykernel_launcher.py:22: UserWarning: Boolean Series key will be reindexed to match DataFrame index.\n",
      "C:\\Users\\NAVEEN\\Anaconda3\\envs\\newtf\\lib\\site-packages\\ipykernel_launcher.py:24: UserWarning: Boolean Series key will be reindexed to match DataFrame index.\n"
     ]
    },
    {
     "name": "stdout",
     "output_type": "stream",
     "text": [
      "40 ('DCMA_8_4.0305_F', 'PSO_30_I')\n"
     ]
    },
    {
     "name": "stderr",
     "output_type": "stream",
     "text": [
      "C:\\Users\\NAVEEN\\Anaconda3\\envs\\newtf\\lib\\site-packages\\ipykernel_launcher.py:22: UserWarning: Boolean Series key will be reindexed to match DataFrame index.\n",
      "C:\\Users\\NAVEEN\\Anaconda3\\envs\\newtf\\lib\\site-packages\\ipykernel_launcher.py:24: UserWarning: Boolean Series key will be reindexed to match DataFrame index.\n"
     ]
    },
    {
     "name": "stdout",
     "output_type": "stream",
     "text": [
      "40 ('DCMA_6_4.029_T', 'PSO_30_I')\n"
     ]
    },
    {
     "name": "stderr",
     "output_type": "stream",
     "text": [
      "C:\\Users\\NAVEEN\\Anaconda3\\envs\\newtf\\lib\\site-packages\\ipykernel_launcher.py:22: UserWarning: Boolean Series key will be reindexed to match DataFrame index.\n",
      "C:\\Users\\NAVEEN\\Anaconda3\\envs\\newtf\\lib\\site-packages\\ipykernel_launcher.py:24: UserWarning: Boolean Series key will be reindexed to match DataFrame index.\n"
     ]
    },
    {
     "name": "stdout",
     "output_type": "stream",
     "text": [
      "40 ('DCMA_7_4.8509_T', 'PSO_30_I')\n"
     ]
    },
    {
     "name": "stderr",
     "output_type": "stream",
     "text": [
      "C:\\Users\\NAVEEN\\Anaconda3\\envs\\newtf\\lib\\site-packages\\ipykernel_launcher.py:22: UserWarning: Boolean Series key will be reindexed to match DataFrame index.\n",
      "C:\\Users\\NAVEEN\\Anaconda3\\envs\\newtf\\lib\\site-packages\\ipykernel_launcher.py:24: UserWarning: Boolean Series key will be reindexed to match DataFrame index.\n"
     ]
    },
    {
     "name": "stdout",
     "output_type": "stream",
     "text": [
      "40 ('DCMA_14_1.4688_T', 'PSO_32_I')\n"
     ]
    },
    {
     "name": "stderr",
     "output_type": "stream",
     "text": [
      "C:\\Users\\NAVEEN\\Anaconda3\\envs\\newtf\\lib\\site-packages\\ipykernel_launcher.py:22: UserWarning: Boolean Series key will be reindexed to match DataFrame index.\n",
      "C:\\Users\\NAVEEN\\Anaconda3\\envs\\newtf\\lib\\site-packages\\ipykernel_launcher.py:24: UserWarning: Boolean Series key will be reindexed to match DataFrame index.\n"
     ]
    },
    {
     "name": "stdout",
     "output_type": "stream",
     "text": [
      "40 ('DCMA_23_3.6117_F', 'PSO_32_I')\n"
     ]
    },
    {
     "name": "stderr",
     "output_type": "stream",
     "text": [
      "C:\\Users\\NAVEEN\\Anaconda3\\envs\\newtf\\lib\\site-packages\\ipykernel_launcher.py:22: UserWarning: Boolean Series key will be reindexed to match DataFrame index.\n",
      "C:\\Users\\NAVEEN\\Anaconda3\\envs\\newtf\\lib\\site-packages\\ipykernel_launcher.py:24: UserWarning: Boolean Series key will be reindexed to match DataFrame index.\n"
     ]
    },
    {
     "name": "stdout",
     "output_type": "stream",
     "text": [
      "40 ('DCMA_13_2.2287_F', 'PSO_32_I')\n"
     ]
    },
    {
     "name": "stderr",
     "output_type": "stream",
     "text": [
      "C:\\Users\\NAVEEN\\Anaconda3\\envs\\newtf\\lib\\site-packages\\ipykernel_launcher.py:22: UserWarning: Boolean Series key will be reindexed to match DataFrame index.\n",
      "C:\\Users\\NAVEEN\\Anaconda3\\envs\\newtf\\lib\\site-packages\\ipykernel_launcher.py:24: UserWarning: Boolean Series key will be reindexed to match DataFrame index.\n"
     ]
    },
    {
     "name": "stdout",
     "output_type": "stream",
     "text": [
      "40 ('DCMA_27_4.1712_T', 'PSO_35_I')\n"
     ]
    },
    {
     "name": "stderr",
     "output_type": "stream",
     "text": [
      "C:\\Users\\NAVEEN\\Anaconda3\\envs\\newtf\\lib\\site-packages\\ipykernel_launcher.py:22: UserWarning: Boolean Series key will be reindexed to match DataFrame index.\n",
      "C:\\Users\\NAVEEN\\Anaconda3\\envs\\newtf\\lib\\site-packages\\ipykernel_launcher.py:24: UserWarning: Boolean Series key will be reindexed to match DataFrame index.\n"
     ]
    },
    {
     "name": "stdout",
     "output_type": "stream",
     "text": [
      "41 ('DCMA_6_2.2202_F', 'PSO_30_I')\n"
     ]
    },
    {
     "name": "stderr",
     "output_type": "stream",
     "text": [
      "C:\\Users\\NAVEEN\\Anaconda3\\envs\\newtf\\lib\\site-packages\\ipykernel_launcher.py:22: UserWarning: Boolean Series key will be reindexed to match DataFrame index.\n",
      "C:\\Users\\NAVEEN\\Anaconda3\\envs\\newtf\\lib\\site-packages\\ipykernel_launcher.py:24: UserWarning: Boolean Series key will be reindexed to match DataFrame index.\n"
     ]
    },
    {
     "name": "stdout",
     "output_type": "stream",
     "text": [
      "41 ('DCMA_8_4.0305_F', 'PSO_30_I')\n"
     ]
    },
    {
     "name": "stderr",
     "output_type": "stream",
     "text": [
      "C:\\Users\\NAVEEN\\Anaconda3\\envs\\newtf\\lib\\site-packages\\ipykernel_launcher.py:22: UserWarning: Boolean Series key will be reindexed to match DataFrame index.\n",
      "C:\\Users\\NAVEEN\\Anaconda3\\envs\\newtf\\lib\\site-packages\\ipykernel_launcher.py:24: UserWarning: Boolean Series key will be reindexed to match DataFrame index.\n"
     ]
    },
    {
     "name": "stdout",
     "output_type": "stream",
     "text": [
      "41 ('DCMA_6_4.029_T', 'PSO_30_I')\n"
     ]
    },
    {
     "name": "stderr",
     "output_type": "stream",
     "text": [
      "C:\\Users\\NAVEEN\\Anaconda3\\envs\\newtf\\lib\\site-packages\\ipykernel_launcher.py:22: UserWarning: Boolean Series key will be reindexed to match DataFrame index.\n",
      "C:\\Users\\NAVEEN\\Anaconda3\\envs\\newtf\\lib\\site-packages\\ipykernel_launcher.py:24: UserWarning: Boolean Series key will be reindexed to match DataFrame index.\n"
     ]
    },
    {
     "name": "stdout",
     "output_type": "stream",
     "text": [
      "41 ('DCMA_7_4.8509_T', 'PSO_30_I')\n"
     ]
    },
    {
     "name": "stderr",
     "output_type": "stream",
     "text": [
      "C:\\Users\\NAVEEN\\Anaconda3\\envs\\newtf\\lib\\site-packages\\ipykernel_launcher.py:22: UserWarning: Boolean Series key will be reindexed to match DataFrame index.\n",
      "C:\\Users\\NAVEEN\\Anaconda3\\envs\\newtf\\lib\\site-packages\\ipykernel_launcher.py:24: UserWarning: Boolean Series key will be reindexed to match DataFrame index.\n"
     ]
    },
    {
     "name": "stdout",
     "output_type": "stream",
     "text": [
      "41 ('DCMA_14_1.4688_T', 'PSO_32_I')\n"
     ]
    },
    {
     "name": "stderr",
     "output_type": "stream",
     "text": [
      "C:\\Users\\NAVEEN\\Anaconda3\\envs\\newtf\\lib\\site-packages\\ipykernel_launcher.py:22: UserWarning: Boolean Series key will be reindexed to match DataFrame index.\n",
      "C:\\Users\\NAVEEN\\Anaconda3\\envs\\newtf\\lib\\site-packages\\ipykernel_launcher.py:24: UserWarning: Boolean Series key will be reindexed to match DataFrame index.\n"
     ]
    },
    {
     "name": "stdout",
     "output_type": "stream",
     "text": [
      "41 ('DCMA_23_3.6117_F', 'PSO_32_I')\n"
     ]
    },
    {
     "name": "stderr",
     "output_type": "stream",
     "text": [
      "C:\\Users\\NAVEEN\\Anaconda3\\envs\\newtf\\lib\\site-packages\\ipykernel_launcher.py:22: UserWarning: Boolean Series key will be reindexed to match DataFrame index.\n",
      "C:\\Users\\NAVEEN\\Anaconda3\\envs\\newtf\\lib\\site-packages\\ipykernel_launcher.py:24: UserWarning: Boolean Series key will be reindexed to match DataFrame index.\n"
     ]
    },
    {
     "name": "stdout",
     "output_type": "stream",
     "text": [
      "41 ('DCMA_13_2.2287_F', 'PSO_32_I')\n"
     ]
    },
    {
     "name": "stderr",
     "output_type": "stream",
     "text": [
      "C:\\Users\\NAVEEN\\Anaconda3\\envs\\newtf\\lib\\site-packages\\ipykernel_launcher.py:22: UserWarning: Boolean Series key will be reindexed to match DataFrame index.\n",
      "C:\\Users\\NAVEEN\\Anaconda3\\envs\\newtf\\lib\\site-packages\\ipykernel_launcher.py:24: UserWarning: Boolean Series key will be reindexed to match DataFrame index.\n"
     ]
    },
    {
     "name": "stdout",
     "output_type": "stream",
     "text": [
      "41 ('DCMA_27_4.1712_T', 'PSO_35_I')\n"
     ]
    },
    {
     "name": "stderr",
     "output_type": "stream",
     "text": [
      "C:\\Users\\NAVEEN\\Anaconda3\\envs\\newtf\\lib\\site-packages\\ipykernel_launcher.py:22: UserWarning: Boolean Series key will be reindexed to match DataFrame index.\n",
      "C:\\Users\\NAVEEN\\Anaconda3\\envs\\newtf\\lib\\site-packages\\ipykernel_launcher.py:24: UserWarning: Boolean Series key will be reindexed to match DataFrame index.\n"
     ]
    },
    {
     "name": "stdout",
     "output_type": "stream",
     "text": [
      "42 ('DCMA_6_2.2202_F', 'PSO_30_I')\n"
     ]
    },
    {
     "name": "stderr",
     "output_type": "stream",
     "text": [
      "C:\\Users\\NAVEEN\\Anaconda3\\envs\\newtf\\lib\\site-packages\\ipykernel_launcher.py:22: UserWarning: Boolean Series key will be reindexed to match DataFrame index.\n",
      "C:\\Users\\NAVEEN\\Anaconda3\\envs\\newtf\\lib\\site-packages\\ipykernel_launcher.py:24: UserWarning: Boolean Series key will be reindexed to match DataFrame index.\n"
     ]
    },
    {
     "name": "stdout",
     "output_type": "stream",
     "text": [
      "42 ('DCMA_8_4.0305_F', 'PSO_30_I')\n"
     ]
    },
    {
     "name": "stderr",
     "output_type": "stream",
     "text": [
      "C:\\Users\\NAVEEN\\Anaconda3\\envs\\newtf\\lib\\site-packages\\ipykernel_launcher.py:22: UserWarning: Boolean Series key will be reindexed to match DataFrame index.\n",
      "C:\\Users\\NAVEEN\\Anaconda3\\envs\\newtf\\lib\\site-packages\\ipykernel_launcher.py:24: UserWarning: Boolean Series key will be reindexed to match DataFrame index.\n"
     ]
    },
    {
     "name": "stdout",
     "output_type": "stream",
     "text": [
      "42 ('DCMA_6_4.029_T', 'PSO_30_I')\n"
     ]
    },
    {
     "name": "stderr",
     "output_type": "stream",
     "text": [
      "C:\\Users\\NAVEEN\\Anaconda3\\envs\\newtf\\lib\\site-packages\\ipykernel_launcher.py:22: UserWarning: Boolean Series key will be reindexed to match DataFrame index.\n",
      "C:\\Users\\NAVEEN\\Anaconda3\\envs\\newtf\\lib\\site-packages\\ipykernel_launcher.py:24: UserWarning: Boolean Series key will be reindexed to match DataFrame index.\n"
     ]
    },
    {
     "name": "stdout",
     "output_type": "stream",
     "text": [
      "42 ('DCMA_7_4.8509_T', 'PSO_30_I')\n"
     ]
    },
    {
     "name": "stderr",
     "output_type": "stream",
     "text": [
      "C:\\Users\\NAVEEN\\Anaconda3\\envs\\newtf\\lib\\site-packages\\ipykernel_launcher.py:22: UserWarning: Boolean Series key will be reindexed to match DataFrame index.\n",
      "C:\\Users\\NAVEEN\\Anaconda3\\envs\\newtf\\lib\\site-packages\\ipykernel_launcher.py:24: UserWarning: Boolean Series key will be reindexed to match DataFrame index.\n"
     ]
    },
    {
     "name": "stdout",
     "output_type": "stream",
     "text": [
      "42 ('DCMA_14_1.4688_T', 'PSO_32_I')\n"
     ]
    },
    {
     "name": "stderr",
     "output_type": "stream",
     "text": [
      "C:\\Users\\NAVEEN\\Anaconda3\\envs\\newtf\\lib\\site-packages\\ipykernel_launcher.py:22: UserWarning: Boolean Series key will be reindexed to match DataFrame index.\n",
      "C:\\Users\\NAVEEN\\Anaconda3\\envs\\newtf\\lib\\site-packages\\ipykernel_launcher.py:24: UserWarning: Boolean Series key will be reindexed to match DataFrame index.\n"
     ]
    },
    {
     "name": "stdout",
     "output_type": "stream",
     "text": [
      "42 ('DCMA_23_3.6117_F', 'PSO_32_I')\n"
     ]
    },
    {
     "name": "stderr",
     "output_type": "stream",
     "text": [
      "C:\\Users\\NAVEEN\\Anaconda3\\envs\\newtf\\lib\\site-packages\\ipykernel_launcher.py:22: UserWarning: Boolean Series key will be reindexed to match DataFrame index.\n",
      "C:\\Users\\NAVEEN\\Anaconda3\\envs\\newtf\\lib\\site-packages\\ipykernel_launcher.py:24: UserWarning: Boolean Series key will be reindexed to match DataFrame index.\n"
     ]
    },
    {
     "name": "stdout",
     "output_type": "stream",
     "text": [
      "42 ('DCMA_13_2.2287_F', 'PSO_32_I')\n"
     ]
    },
    {
     "name": "stderr",
     "output_type": "stream",
     "text": [
      "C:\\Users\\NAVEEN\\Anaconda3\\envs\\newtf\\lib\\site-packages\\ipykernel_launcher.py:22: UserWarning: Boolean Series key will be reindexed to match DataFrame index.\n",
      "C:\\Users\\NAVEEN\\Anaconda3\\envs\\newtf\\lib\\site-packages\\ipykernel_launcher.py:24: UserWarning: Boolean Series key will be reindexed to match DataFrame index.\n"
     ]
    },
    {
     "name": "stdout",
     "output_type": "stream",
     "text": [
      "42 ('DCMA_27_4.1712_T', 'PSO_35_I')\n"
     ]
    },
    {
     "name": "stderr",
     "output_type": "stream",
     "text": [
      "C:\\Users\\NAVEEN\\Anaconda3\\envs\\newtf\\lib\\site-packages\\ipykernel_launcher.py:22: UserWarning: Boolean Series key will be reindexed to match DataFrame index.\n",
      "C:\\Users\\NAVEEN\\Anaconda3\\envs\\newtf\\lib\\site-packages\\ipykernel_launcher.py:24: UserWarning: Boolean Series key will be reindexed to match DataFrame index.\n"
     ]
    },
    {
     "name": "stdout",
     "output_type": "stream",
     "text": [
      "43 ('DCMA_6_2.2202_F', 'PSO_30_I')\n"
     ]
    },
    {
     "name": "stderr",
     "output_type": "stream",
     "text": [
      "C:\\Users\\NAVEEN\\Anaconda3\\envs\\newtf\\lib\\site-packages\\ipykernel_launcher.py:22: UserWarning: Boolean Series key will be reindexed to match DataFrame index.\n",
      "C:\\Users\\NAVEEN\\Anaconda3\\envs\\newtf\\lib\\site-packages\\ipykernel_launcher.py:24: UserWarning: Boolean Series key will be reindexed to match DataFrame index.\n"
     ]
    },
    {
     "name": "stdout",
     "output_type": "stream",
     "text": [
      "43 ('DCMA_8_4.0305_F', 'PSO_30_I')\n"
     ]
    },
    {
     "name": "stderr",
     "output_type": "stream",
     "text": [
      "C:\\Users\\NAVEEN\\Anaconda3\\envs\\newtf\\lib\\site-packages\\ipykernel_launcher.py:22: UserWarning: Boolean Series key will be reindexed to match DataFrame index.\n",
      "C:\\Users\\NAVEEN\\Anaconda3\\envs\\newtf\\lib\\site-packages\\ipykernel_launcher.py:24: UserWarning: Boolean Series key will be reindexed to match DataFrame index.\n"
     ]
    },
    {
     "name": "stdout",
     "output_type": "stream",
     "text": [
      "43 ('DCMA_6_4.029_T', 'PSO_30_I')\n"
     ]
    },
    {
     "name": "stderr",
     "output_type": "stream",
     "text": [
      "C:\\Users\\NAVEEN\\Anaconda3\\envs\\newtf\\lib\\site-packages\\ipykernel_launcher.py:22: UserWarning: Boolean Series key will be reindexed to match DataFrame index.\n",
      "C:\\Users\\NAVEEN\\Anaconda3\\envs\\newtf\\lib\\site-packages\\ipykernel_launcher.py:24: UserWarning: Boolean Series key will be reindexed to match DataFrame index.\n"
     ]
    },
    {
     "name": "stdout",
     "output_type": "stream",
     "text": [
      "43 ('DCMA_7_4.8509_T', 'PSO_30_I')\n"
     ]
    },
    {
     "name": "stderr",
     "output_type": "stream",
     "text": [
      "C:\\Users\\NAVEEN\\Anaconda3\\envs\\newtf\\lib\\site-packages\\ipykernel_launcher.py:22: UserWarning: Boolean Series key will be reindexed to match DataFrame index.\n",
      "C:\\Users\\NAVEEN\\Anaconda3\\envs\\newtf\\lib\\site-packages\\ipykernel_launcher.py:24: UserWarning: Boolean Series key will be reindexed to match DataFrame index.\n"
     ]
    },
    {
     "name": "stdout",
     "output_type": "stream",
     "text": [
      "43 ('DCMA_14_1.4688_T', 'PSO_32_I')\n"
     ]
    },
    {
     "name": "stderr",
     "output_type": "stream",
     "text": [
      "C:\\Users\\NAVEEN\\Anaconda3\\envs\\newtf\\lib\\site-packages\\ipykernel_launcher.py:22: UserWarning: Boolean Series key will be reindexed to match DataFrame index.\n",
      "C:\\Users\\NAVEEN\\Anaconda3\\envs\\newtf\\lib\\site-packages\\ipykernel_launcher.py:24: UserWarning: Boolean Series key will be reindexed to match DataFrame index.\n"
     ]
    },
    {
     "name": "stdout",
     "output_type": "stream",
     "text": [
      "43 ('DCMA_23_3.6117_F', 'PSO_32_I')\n"
     ]
    },
    {
     "name": "stderr",
     "output_type": "stream",
     "text": [
      "C:\\Users\\NAVEEN\\Anaconda3\\envs\\newtf\\lib\\site-packages\\ipykernel_launcher.py:22: UserWarning: Boolean Series key will be reindexed to match DataFrame index.\n",
      "C:\\Users\\NAVEEN\\Anaconda3\\envs\\newtf\\lib\\site-packages\\ipykernel_launcher.py:24: UserWarning: Boolean Series key will be reindexed to match DataFrame index.\n"
     ]
    },
    {
     "name": "stdout",
     "output_type": "stream",
     "text": [
      "43 ('DCMA_13_2.2287_F', 'PSO_32_I')\n"
     ]
    },
    {
     "name": "stderr",
     "output_type": "stream",
     "text": [
      "C:\\Users\\NAVEEN\\Anaconda3\\envs\\newtf\\lib\\site-packages\\ipykernel_launcher.py:22: UserWarning: Boolean Series key will be reindexed to match DataFrame index.\n",
      "C:\\Users\\NAVEEN\\Anaconda3\\envs\\newtf\\lib\\site-packages\\ipykernel_launcher.py:24: UserWarning: Boolean Series key will be reindexed to match DataFrame index.\n"
     ]
    },
    {
     "name": "stdout",
     "output_type": "stream",
     "text": [
      "43 ('DCMA_27_4.1712_T', 'PSO_35_I')\n"
     ]
    }
   ],
   "source": [
    "for func in functions:\n",
    "    for algo_tuple in algo_combinations:\n",
    "        ecdf(func, algo_tuple)"
   ]
  },
  {
   "cell_type": "code",
   "execution_count": 15,
   "id": "cef5000c",
   "metadata": {},
   "outputs": [
    {
     "data": {
      "text/html": [
       "<div>\n",
       "<style scoped>\n",
       "    .dataframe tbody tr th:only-of-type {\n",
       "        vertical-align: middle;\n",
       "    }\n",
       "\n",
       "    .dataframe tbody tr th {\n",
       "        vertical-align: top;\n",
       "    }\n",
       "\n",
       "    .dataframe thead th {\n",
       "        text-align: right;\n",
       "    }\n",
       "</style>\n",
       "<table border=\"1\" class=\"dataframe\">\n",
       "  <thead>\n",
       "    <tr style=\"text-align: right;\">\n",
       "      <th></th>\n",
       "      <th>(DCMA_6_2.2202_F, PSO_30_I)</th>\n",
       "      <th>(DCMA_8_4.0305_F, PSO_30_I)</th>\n",
       "      <th>(DCMA_6_4.029_T, PSO_30_I)</th>\n",
       "      <th>(DCMA_7_4.8509_T, PSO_30_I)</th>\n",
       "      <th>(DCMA_14_1.4688_T, PSO_32_I)</th>\n",
       "      <th>(DCMA_23_3.6117_F, PSO_32_I)</th>\n",
       "      <th>(DCMA_13_2.2287_F, PSO_32_I)</th>\n",
       "      <th>(DCMA_27_4.1712_T, PSO_35_I)</th>\n",
       "    </tr>\n",
       "  </thead>\n",
       "  <tbody>\n",
       "    <tr>\n",
       "      <th>25</th>\n",
       "      <td>1880.045455</td>\n",
       "      <td>2080.447273</td>\n",
       "      <td>1821.860000</td>\n",
       "      <td>2025.496364</td>\n",
       "      <td>2994.389091</td>\n",
       "      <td>3848.480000</td>\n",
       "      <td>3278.043636</td>\n",
       "      <td>3866.263636</td>\n",
       "    </tr>\n",
       "    <tr>\n",
       "      <th>26</th>\n",
       "      <td>510.716364</td>\n",
       "      <td>584.249091</td>\n",
       "      <td>447.683636</td>\n",
       "      <td>524.858182</td>\n",
       "      <td>670.712727</td>\n",
       "      <td>777.381818</td>\n",
       "      <td>732.123636</td>\n",
       "      <td>748.690909</td>\n",
       "    </tr>\n",
       "    <tr>\n",
       "      <th>27</th>\n",
       "      <td>4131.352727</td>\n",
       "      <td>4427.103636</td>\n",
       "      <td>4150.345455</td>\n",
       "      <td>4341.458182</td>\n",
       "      <td>4539.012727</td>\n",
       "      <td>4405.720000</td>\n",
       "      <td>4185.878182</td>\n",
       "      <td>4347.134545</td>\n",
       "    </tr>\n",
       "    <tr>\n",
       "      <th>28</th>\n",
       "      <td>867.109091</td>\n",
       "      <td>863.067273</td>\n",
       "      <td>883.267273</td>\n",
       "      <td>864.074545</td>\n",
       "      <td>861.445455</td>\n",
       "      <td>842.850909</td>\n",
       "      <td>863.063636</td>\n",
       "      <td>833.149091</td>\n",
       "    </tr>\n",
       "    <tr>\n",
       "      <th>29</th>\n",
       "      <td>3753.523636</td>\n",
       "      <td>4031.518182</td>\n",
       "      <td>3131.316364</td>\n",
       "      <td>4171.309091</td>\n",
       "      <td>3964.423636</td>\n",
       "      <td>3670.338182</td>\n",
       "      <td>3970.085455</td>\n",
       "      <td>3549.881818</td>\n",
       "    </tr>\n",
       "  </tbody>\n",
       "</table>\n",
       "</div>"
      ],
      "text/plain": [
       "    (DCMA_6_2.2202_F, PSO_30_I)  (DCMA_8_4.0305_F, PSO_30_I)  \\\n",
       "25                  1880.045455                  2080.447273   \n",
       "26                   510.716364                   584.249091   \n",
       "27                  4131.352727                  4427.103636   \n",
       "28                   867.109091                   863.067273   \n",
       "29                  3753.523636                  4031.518182   \n",
       "\n",
       "    (DCMA_6_4.029_T, PSO_30_I)  (DCMA_7_4.8509_T, PSO_30_I)  \\\n",
       "25                 1821.860000                  2025.496364   \n",
       "26                  447.683636                   524.858182   \n",
       "27                 4150.345455                  4341.458182   \n",
       "28                  883.267273                   864.074545   \n",
       "29                 3131.316364                  4171.309091   \n",
       "\n",
       "    (DCMA_14_1.4688_T, PSO_32_I)  (DCMA_23_3.6117_F, PSO_32_I)  \\\n",
       "25                   2994.389091                   3848.480000   \n",
       "26                    670.712727                    777.381818   \n",
       "27                   4539.012727                   4405.720000   \n",
       "28                    861.445455                    842.850909   \n",
       "29                   3964.423636                   3670.338182   \n",
       "\n",
       "    (DCMA_13_2.2287_F, PSO_32_I)  (DCMA_27_4.1712_T, PSO_35_I)  \n",
       "25                   3278.043636                   3866.263636  \n",
       "26                    732.123636                    748.690909  \n",
       "27                   4185.878182                   4347.134545  \n",
       "28                    863.063636                    833.149091  \n",
       "29                   3970.085455                   3549.881818  "
      ]
     },
     "execution_count": 15,
     "metadata": {},
     "output_type": "execute_result"
    }
   ],
   "source": [
    "df_tune.head()"
   ]
  },
  {
   "cell_type": "code",
   "execution_count": 35,
   "id": "e29a1e41",
   "metadata": {},
   "outputs": [],
   "source": [
    "#df_tune.idxmax(axis=1)"
   ]
  },
  {
   "cell_type": "code",
   "execution_count": 20,
   "id": "bceae1db",
   "metadata": {},
   "outputs": [],
   "source": [
    "df_tune.to_csv('performance_tune.csv')"
   ]
  },
  {
   "cell_type": "code",
   "execution_count": 5,
   "id": "66008424",
   "metadata": {},
   "outputs": [],
   "source": [
    "df_tune = pd.read_csv('performance_tune.csv', index_col=[0])"
   ]
  },
  {
   "cell_type": "code",
   "execution_count": 6,
   "id": "e899c4c4",
   "metadata": {},
   "outputs": [],
   "source": [
    "for col in df_tune.columns:\n",
    "    new_col = re.sub(c, '', col)\n",
    "    df_tune.rename(columns = {col:new_col}, inplace = True)"
   ]
  },
  {
   "cell_type": "code",
   "execution_count": 7,
   "id": "01eff72a",
   "metadata": {},
   "outputs": [
    {
     "data": {
      "text/html": [
       "<div>\n",
       "<style scoped>\n",
       "    .dataframe tbody tr th:only-of-type {\n",
       "        vertical-align: middle;\n",
       "    }\n",
       "\n",
       "    .dataframe tbody tr th {\n",
       "        vertical-align: top;\n",
       "    }\n",
       "\n",
       "    .dataframe thead th {\n",
       "        text-align: right;\n",
       "    }\n",
       "</style>\n",
       "<table border=\"1\" class=\"dataframe\">\n",
       "  <thead>\n",
       "    <tr style=\"text-align: right;\">\n",
       "      <th></th>\n",
       "      <th>(DCMA_6_2.2202_F, PSO_30_I)</th>\n",
       "      <th>(DCMA_8_4.0305_F, PSO_30_I)</th>\n",
       "      <th>(DCMA_6_4.029_T, PSO_30_I)</th>\n",
       "      <th>(DCMA_7_4.8509_T, PSO_30_I)</th>\n",
       "      <th>(DCMA_14_1.4688_T, PSO_32_I)</th>\n",
       "      <th>(DCMA_23_3.6117_F, PSO_32_I)</th>\n",
       "      <th>(DCMA_13_2.2287_F, PSO_32_I)</th>\n",
       "      <th>(DCMA_27_4.1712_T, PSO_35_I)</th>\n",
       "    </tr>\n",
       "  </thead>\n",
       "  <tbody>\n",
       "    <tr>\n",
       "      <th>25</th>\n",
       "      <td>1880.045455</td>\n",
       "      <td>2080.447273</td>\n",
       "      <td>1821.860000</td>\n",
       "      <td>2025.496364</td>\n",
       "      <td>2994.389091</td>\n",
       "      <td>3848.480000</td>\n",
       "      <td>3278.043636</td>\n",
       "      <td>3866.263636</td>\n",
       "    </tr>\n",
       "    <tr>\n",
       "      <th>26</th>\n",
       "      <td>510.716364</td>\n",
       "      <td>584.249091</td>\n",
       "      <td>447.683636</td>\n",
       "      <td>524.858182</td>\n",
       "      <td>670.712727</td>\n",
       "      <td>777.381818</td>\n",
       "      <td>732.123636</td>\n",
       "      <td>748.690909</td>\n",
       "    </tr>\n",
       "    <tr>\n",
       "      <th>27</th>\n",
       "      <td>4131.352727</td>\n",
       "      <td>4427.103636</td>\n",
       "      <td>4150.345455</td>\n",
       "      <td>4341.458182</td>\n",
       "      <td>4539.012727</td>\n",
       "      <td>4405.720000</td>\n",
       "      <td>4185.878182</td>\n",
       "      <td>4347.134545</td>\n",
       "    </tr>\n",
       "    <tr>\n",
       "      <th>28</th>\n",
       "      <td>867.109091</td>\n",
       "      <td>863.067273</td>\n",
       "      <td>883.267273</td>\n",
       "      <td>864.074545</td>\n",
       "      <td>861.445455</td>\n",
       "      <td>842.850909</td>\n",
       "      <td>863.063636</td>\n",
       "      <td>833.149091</td>\n",
       "    </tr>\n",
       "    <tr>\n",
       "      <th>29</th>\n",
       "      <td>3753.523636</td>\n",
       "      <td>4031.518182</td>\n",
       "      <td>3131.316364</td>\n",
       "      <td>4171.309091</td>\n",
       "      <td>3964.423636</td>\n",
       "      <td>3670.338182</td>\n",
       "      <td>3970.085455</td>\n",
       "      <td>3549.881818</td>\n",
       "    </tr>\n",
       "  </tbody>\n",
       "</table>\n",
       "</div>"
      ],
      "text/plain": [
       "    (DCMA_6_2.2202_F, PSO_30_I)  (DCMA_8_4.0305_F, PSO_30_I)  \\\n",
       "25                  1880.045455                  2080.447273   \n",
       "26                   510.716364                   584.249091   \n",
       "27                  4131.352727                  4427.103636   \n",
       "28                   867.109091                   863.067273   \n",
       "29                  3753.523636                  4031.518182   \n",
       "\n",
       "    (DCMA_6_4.029_T, PSO_30_I)  (DCMA_7_4.8509_T, PSO_30_I)  \\\n",
       "25                 1821.860000                  2025.496364   \n",
       "26                  447.683636                   524.858182   \n",
       "27                 4150.345455                  4341.458182   \n",
       "28                  883.267273                   864.074545   \n",
       "29                 3131.316364                  4171.309091   \n",
       "\n",
       "    (DCMA_14_1.4688_T, PSO_32_I)  (DCMA_23_3.6117_F, PSO_32_I)  \\\n",
       "25                   2994.389091                   3848.480000   \n",
       "26                    670.712727                    777.381818   \n",
       "27                   4539.012727                   4405.720000   \n",
       "28                    861.445455                    842.850909   \n",
       "29                   3964.423636                   3670.338182   \n",
       "\n",
       "    (DCMA_13_2.2287_F, PSO_32_I)  (DCMA_27_4.1712_T, PSO_35_I)  \n",
       "25                   3278.043636                   3866.263636  \n",
       "26                    732.123636                    748.690909  \n",
       "27                   4185.878182                   4347.134545  \n",
       "28                    863.063636                    833.149091  \n",
       "29                   3970.085455                   3549.881818  "
      ]
     },
     "execution_count": 7,
     "metadata": {},
     "output_type": "execute_result"
    }
   ],
   "source": [
    "df_tune.head()"
   ]
  },
  {
   "cell_type": "code",
   "execution_count": 8,
   "id": "de5952a5",
   "metadata": {},
   "outputs": [],
   "source": [
    "df_tune_n = df_tune.join(df_auc['(DiagonalCMA, PSO)'])/5000"
   ]
  },
  {
   "cell_type": "code",
   "execution_count": 9,
   "id": "04b79be3",
   "metadata": {},
   "outputs": [
    {
     "data": {
      "text/html": [
       "<div>\n",
       "<style scoped>\n",
       "    .dataframe tbody tr th:only-of-type {\n",
       "        vertical-align: middle;\n",
       "    }\n",
       "\n",
       "    .dataframe tbody tr th {\n",
       "        vertical-align: top;\n",
       "    }\n",
       "\n",
       "    .dataframe thead th {\n",
       "        text-align: right;\n",
       "    }\n",
       "</style>\n",
       "<table border=\"1\" class=\"dataframe\">\n",
       "  <thead>\n",
       "    <tr style=\"text-align: right;\">\n",
       "      <th></th>\n",
       "      <th>(DCMA_6_2.2202_F, PSO_30_I)</th>\n",
       "      <th>(DCMA_8_4.0305_F, PSO_30_I)</th>\n",
       "      <th>(DCMA_6_4.029_T, PSO_30_I)</th>\n",
       "      <th>(DCMA_7_4.8509_T, PSO_30_I)</th>\n",
       "      <th>(DCMA_14_1.4688_T, PSO_32_I)</th>\n",
       "      <th>(DCMA_23_3.6117_F, PSO_32_I)</th>\n",
       "      <th>(DCMA_13_2.2287_F, PSO_32_I)</th>\n",
       "      <th>(DCMA_27_4.1712_T, PSO_35_I)</th>\n",
       "      <th>(DiagonalCMA, PSO)</th>\n",
       "    </tr>\n",
       "  </thead>\n",
       "  <tbody>\n",
       "    <tr>\n",
       "      <th>25</th>\n",
       "      <td>0.376009</td>\n",
       "      <td>0.416089</td>\n",
       "      <td>0.364372</td>\n",
       "      <td>0.405099</td>\n",
       "      <td>0.598878</td>\n",
       "      <td>0.769696</td>\n",
       "      <td>0.655609</td>\n",
       "      <td>0.773253</td>\n",
       "      <td>0.506676</td>\n",
       "    </tr>\n",
       "    <tr>\n",
       "      <th>26</th>\n",
       "      <td>0.102143</td>\n",
       "      <td>0.116850</td>\n",
       "      <td>0.089537</td>\n",
       "      <td>0.104972</td>\n",
       "      <td>0.134143</td>\n",
       "      <td>0.155476</td>\n",
       "      <td>0.146425</td>\n",
       "      <td>0.149738</td>\n",
       "      <td>0.140768</td>\n",
       "    </tr>\n",
       "    <tr>\n",
       "      <th>27</th>\n",
       "      <td>0.826271</td>\n",
       "      <td>0.885421</td>\n",
       "      <td>0.830069</td>\n",
       "      <td>0.868292</td>\n",
       "      <td>0.907803</td>\n",
       "      <td>0.881144</td>\n",
       "      <td>0.837176</td>\n",
       "      <td>0.869427</td>\n",
       "      <td>0.923884</td>\n",
       "    </tr>\n",
       "    <tr>\n",
       "      <th>28</th>\n",
       "      <td>0.173422</td>\n",
       "      <td>0.172613</td>\n",
       "      <td>0.176653</td>\n",
       "      <td>0.172815</td>\n",
       "      <td>0.172289</td>\n",
       "      <td>0.168570</td>\n",
       "      <td>0.172613</td>\n",
       "      <td>0.166630</td>\n",
       "      <td>0.172128</td>\n",
       "    </tr>\n",
       "    <tr>\n",
       "      <th>29</th>\n",
       "      <td>0.750705</td>\n",
       "      <td>0.806304</td>\n",
       "      <td>0.626263</td>\n",
       "      <td>0.834262</td>\n",
       "      <td>0.792885</td>\n",
       "      <td>0.734068</td>\n",
       "      <td>0.794017</td>\n",
       "      <td>0.709976</td>\n",
       "      <td>0.820518</td>\n",
       "    </tr>\n",
       "  </tbody>\n",
       "</table>\n",
       "</div>"
      ],
      "text/plain": [
       "    (DCMA_6_2.2202_F, PSO_30_I)  (DCMA_8_4.0305_F, PSO_30_I)  \\\n",
       "25                     0.376009                     0.416089   \n",
       "26                     0.102143                     0.116850   \n",
       "27                     0.826271                     0.885421   \n",
       "28                     0.173422                     0.172613   \n",
       "29                     0.750705                     0.806304   \n",
       "\n",
       "    (DCMA_6_4.029_T, PSO_30_I)  (DCMA_7_4.8509_T, PSO_30_I)  \\\n",
       "25                    0.364372                     0.405099   \n",
       "26                    0.089537                     0.104972   \n",
       "27                    0.830069                     0.868292   \n",
       "28                    0.176653                     0.172815   \n",
       "29                    0.626263                     0.834262   \n",
       "\n",
       "    (DCMA_14_1.4688_T, PSO_32_I)  (DCMA_23_3.6117_F, PSO_32_I)  \\\n",
       "25                      0.598878                      0.769696   \n",
       "26                      0.134143                      0.155476   \n",
       "27                      0.907803                      0.881144   \n",
       "28                      0.172289                      0.168570   \n",
       "29                      0.792885                      0.734068   \n",
       "\n",
       "    (DCMA_13_2.2287_F, PSO_32_I)  (DCMA_27_4.1712_T, PSO_35_I)  \\\n",
       "25                      0.655609                      0.773253   \n",
       "26                      0.146425                      0.149738   \n",
       "27                      0.837176                      0.869427   \n",
       "28                      0.172613                      0.166630   \n",
       "29                      0.794017                      0.709976   \n",
       "\n",
       "    (DiagonalCMA, PSO)  \n",
       "25            0.506676  \n",
       "26            0.140768  \n",
       "27            0.923884  \n",
       "28            0.172128  \n",
       "29            0.820518  "
      ]
     },
     "execution_count": 9,
     "metadata": {},
     "output_type": "execute_result"
    }
   ],
   "source": [
    "df_tune_n.head()"
   ]
  },
  {
   "cell_type": "code",
   "execution_count": 13,
   "id": "ba2ab277",
   "metadata": {},
   "outputs": [
    {
     "data": {
      "text/plain": [
       "(DCMA_6_2.2202_F, PSO_30_I)      9.849188\n",
       "(DCMA_8_4.0305_F, PSO_30_I)     10.025355\n",
       "(DCMA_6_4.029_T, PSO_30_I)       9.733885\n",
       "(DCMA_7_4.8509_T, PSO_30_I)     10.004463\n",
       "(DCMA_14_1.4688_T, PSO_32_I)     9.933358\n",
       "(DCMA_23_3.6117_F, PSO_32_I)     9.639855\n",
       "(DCMA_13_2.2287_F, PSO_32_I)     9.998000\n",
       "(DCMA_27_4.1712_T, PSO_35_I)     9.370397\n",
       "(DiagonalCMA, PSO)              10.510364\n",
       "dtype: float64"
      ]
     },
     "execution_count": 13,
     "metadata": {},
     "output_type": "execute_result"
    }
   ],
   "source": [
    "df_tune_n.sum(axis=0)"
   ]
  },
  {
   "cell_type": "code",
   "execution_count": 10,
   "id": "edd438ba",
   "metadata": {},
   "outputs": [
    {
     "data": {
      "text/html": [
       "<div>\n",
       "<style scoped>\n",
       "    .dataframe tbody tr th:only-of-type {\n",
       "        vertical-align: middle;\n",
       "    }\n",
       "\n",
       "    .dataframe tbody tr th {\n",
       "        vertical-align: top;\n",
       "    }\n",
       "\n",
       "    .dataframe thead th {\n",
       "        text-align: right;\n",
       "    }\n",
       "</style>\n",
       "<table border=\"1\" class=\"dataframe\">\n",
       "  <thead>\n",
       "    <tr style=\"text-align: right;\">\n",
       "      <th></th>\n",
       "      <th>Performance</th>\n",
       "    </tr>\n",
       "  </thead>\n",
       "  <tbody>\n",
       "    <tr>\n",
       "      <th>(DCMA_27_4.1712_T, PSO_35_I)</th>\n",
       "      <td>9.370397</td>\n",
       "    </tr>\n",
       "    <tr>\n",
       "      <th>(DCMA_23_3.6117_F, PSO_32_I)</th>\n",
       "      <td>9.639855</td>\n",
       "    </tr>\n",
       "    <tr>\n",
       "      <th>(DCMA_6_4.029_T, PSO_30_I)</th>\n",
       "      <td>9.733885</td>\n",
       "    </tr>\n",
       "    <tr>\n",
       "      <th>(DCMA_6_2.2202_F, PSO_30_I)</th>\n",
       "      <td>9.849188</td>\n",
       "    </tr>\n",
       "    <tr>\n",
       "      <th>(DCMA_14_1.4688_T, PSO_32_I)</th>\n",
       "      <td>9.933358</td>\n",
       "    </tr>\n",
       "    <tr>\n",
       "      <th>(DCMA_13_2.2287_F, PSO_32_I)</th>\n",
       "      <td>9.998000</td>\n",
       "    </tr>\n",
       "    <tr>\n",
       "      <th>(DCMA_7_4.8509_T, PSO_30_I)</th>\n",
       "      <td>10.004463</td>\n",
       "    </tr>\n",
       "    <tr>\n",
       "      <th>(DCMA_8_4.0305_F, PSO_30_I)</th>\n",
       "      <td>10.025355</td>\n",
       "    </tr>\n",
       "    <tr>\n",
       "      <th>(DiagonalCMA, PSO)</th>\n",
       "      <td>10.510364</td>\n",
       "    </tr>\n",
       "  </tbody>\n",
       "</table>\n",
       "</div>"
      ],
      "text/plain": [
       "                              Performance\n",
       "(DCMA_27_4.1712_T, PSO_35_I)     9.370397\n",
       "(DCMA_23_3.6117_F, PSO_32_I)     9.639855\n",
       "(DCMA_6_4.029_T, PSO_30_I)       9.733885\n",
       "(DCMA_6_2.2202_F, PSO_30_I)      9.849188\n",
       "(DCMA_14_1.4688_T, PSO_32_I)     9.933358\n",
       "(DCMA_13_2.2287_F, PSO_32_I)     9.998000\n",
       "(DCMA_7_4.8509_T, PSO_30_I)     10.004463\n",
       "(DCMA_8_4.0305_F, PSO_30_I)     10.025355\n",
       "(DiagonalCMA, PSO)              10.510364"
      ]
     },
     "execution_count": 10,
     "metadata": {},
     "output_type": "execute_result"
    }
   ],
   "source": [
    "col_sum = {}\n",
    "for col in df_tune_n.columns:\n",
    "    col_sum[col] = df_tune_n[col].sum()\n",
    "col_sum = pd.DataFrame.from_dict(col_sum, orient='index')\n",
    "col_sum = col_sum.rename(columns={0: \"Performance\"})\n",
    "col_sum = col_sum.sort_values(by=['Performance'], ascending=True)\n",
    "col_sum"
   ]
  },
  {
   "cell_type": "code",
   "execution_count": 11,
   "id": "a0124850",
   "metadata": {},
   "outputs": [
    {
     "data": {
      "text/plain": [
       "9"
      ]
     },
     "execution_count": 11,
     "metadata": {},
     "output_type": "execute_result"
    }
   ],
   "source": [
    "col_sum.shape[0]"
   ]
  },
  {
   "cell_type": "code",
   "execution_count": 12,
   "id": "5a122748",
   "metadata": {},
   "outputs": [
    {
     "data": {
      "image/png": "[encoded data removed]",
      "text/plain": [
       "<Figure size 800x400 with 1 Axes>"
      ]
     },
     "metadata": {},
     "output_type": "display_data"
    }
   ],
   "source": [
    "x = list(np.arange(9))\n",
    "col_sum = col_sum.reset_index()\n",
    "plt.bar(x, col_sum['Performance'])\n",
    "plt.xlabel('DCMA and PSO configuration combinations', fontsize=8)\n",
    "plt.ylabel('Performance measure', fontsize=8)\n",
    "plt.title('Overall performance of algorithms across functions', fontsize=8)\n",
    "plt.xticks(x, col_sum['index'], rotation=90, fontsize=7)\n",
    "plt.yticks(fontsize=8)\n",
    "figure = plt.gcf()  # get current figure\n",
    "#figure.set_tight_layout(True)\n",
    "figure.set_size_inches(8,4)\n",
    "plt.savefig(r'ioh_logs_tune/new_algo2/ranking_tune_overall.pdf', bbox_inches='tight')\n",
    "plt.show()"
   ]
  },
  {
   "cell_type": "code",
   "execution_count": 13,
   "id": "956ddf6b",
   "metadata": {},
   "outputs": [
    {
     "data": {
      "image/png": "[encoded data removed]",
      "text/plain": [
       "<Figure size 800x500 with 2 Axes>"
      ]
     },
     "metadata": {},
     "output_type": "display_data"
    }
   ],
   "source": [
    "ax = sns.heatmap(df_tune_n, xticklabels=1, cmap=\"rocket_r\", linewidths=0.5, linecolor='white')\n",
    "sns.set(font_scale=0.7)\n",
    "ax.set_xlabel('DCMA and PSO combinations')\n",
    "ax.set_ylabel('Function ID')\n",
    "ax.set_title('Heatmap of DCMA and PSO variants combination performance on functions\\n(measured by area under ECDF curve)')\n",
    "ax.set_xticklabels(ax.get_xticklabels(), rotation=60, horizontalalignment='right', fontsize=7)\n",
    "figure = plt.gcf()  # get current figure\n",
    "#figure.set_tight_layout(True)\n",
    "figure.set_size_inches(8,5)\n",
    "plt.savefig('ioh_logs_tune/new_algo2/hmap_tune_overall_n1f.pdf', bbox_inches='tight')\n",
    "plt.show()"
   ]
  },
  {
   "cell_type": "code",
   "execution_count": 14,
   "id": "b838c43c",
   "metadata": {},
   "outputs": [],
   "source": [
    "df_tune_n2 = df_tune.join(df_auc['(DiagonalCMA, PSO)'])"
   ]
  },
  {
   "cell_type": "code",
   "execution_count": 15,
   "id": "8673bc3b",
   "metadata": {},
   "outputs": [
    {
     "data": {
      "text/html": [
       "<div>\n",
       "<style scoped>\n",
       "    .dataframe tbody tr th:only-of-type {\n",
       "        vertical-align: middle;\n",
       "    }\n",
       "\n",
       "    .dataframe tbody tr th {\n",
       "        vertical-align: top;\n",
       "    }\n",
       "\n",
       "    .dataframe thead th {\n",
       "        text-align: right;\n",
       "    }\n",
       "</style>\n",
       "<table border=\"1\" class=\"dataframe\">\n",
       "  <thead>\n",
       "    <tr style=\"text-align: right;\">\n",
       "      <th></th>\n",
       "      <th>(DCMA_6_2.2202_F, PSO_30_I)</th>\n",
       "      <th>(DCMA_8_4.0305_F, PSO_30_I)</th>\n",
       "      <th>(DCMA_6_4.029_T, PSO_30_I)</th>\n",
       "      <th>(DCMA_7_4.8509_T, PSO_30_I)</th>\n",
       "      <th>(DCMA_14_1.4688_T, PSO_32_I)</th>\n",
       "      <th>(DCMA_23_3.6117_F, PSO_32_I)</th>\n",
       "      <th>(DCMA_13_2.2287_F, PSO_32_I)</th>\n",
       "      <th>(DCMA_27_4.1712_T, PSO_35_I)</th>\n",
       "      <th>(DiagonalCMA, PSO)</th>\n",
       "    </tr>\n",
       "  </thead>\n",
       "  <tbody>\n",
       "    <tr>\n",
       "      <th>25</th>\n",
       "      <td>1880.045455</td>\n",
       "      <td>2080.447273</td>\n",
       "      <td>1821.860000</td>\n",
       "      <td>2025.496364</td>\n",
       "      <td>2994.389091</td>\n",
       "      <td>3848.480000</td>\n",
       "      <td>3278.043636</td>\n",
       "      <td>3866.263636</td>\n",
       "      <td>2533.381818</td>\n",
       "    </tr>\n",
       "    <tr>\n",
       "      <th>26</th>\n",
       "      <td>510.716364</td>\n",
       "      <td>584.249091</td>\n",
       "      <td>447.683636</td>\n",
       "      <td>524.858182</td>\n",
       "      <td>670.712727</td>\n",
       "      <td>777.381818</td>\n",
       "      <td>732.123636</td>\n",
       "      <td>748.690909</td>\n",
       "      <td>703.840000</td>\n",
       "    </tr>\n",
       "    <tr>\n",
       "      <th>27</th>\n",
       "      <td>4131.352727</td>\n",
       "      <td>4427.103636</td>\n",
       "      <td>4150.345455</td>\n",
       "      <td>4341.458182</td>\n",
       "      <td>4539.012727</td>\n",
       "      <td>4405.720000</td>\n",
       "      <td>4185.878182</td>\n",
       "      <td>4347.134545</td>\n",
       "      <td>4619.418182</td>\n",
       "    </tr>\n",
       "    <tr>\n",
       "      <th>28</th>\n",
       "      <td>867.109091</td>\n",
       "      <td>863.067273</td>\n",
       "      <td>883.267273</td>\n",
       "      <td>864.074545</td>\n",
       "      <td>861.445455</td>\n",
       "      <td>842.850909</td>\n",
       "      <td>863.063636</td>\n",
       "      <td>833.149091</td>\n",
       "      <td>860.638182</td>\n",
       "    </tr>\n",
       "    <tr>\n",
       "      <th>29</th>\n",
       "      <td>3753.523636</td>\n",
       "      <td>4031.518182</td>\n",
       "      <td>3131.316364</td>\n",
       "      <td>4171.309091</td>\n",
       "      <td>3964.423636</td>\n",
       "      <td>3670.338182</td>\n",
       "      <td>3970.085455</td>\n",
       "      <td>3549.881818</td>\n",
       "      <td>4102.590909</td>\n",
       "    </tr>\n",
       "  </tbody>\n",
       "</table>\n",
       "</div>"
      ],
      "text/plain": [
       "    (DCMA_6_2.2202_F, PSO_30_I)  (DCMA_8_4.0305_F, PSO_30_I)  \\\n",
       "25                  1880.045455                  2080.447273   \n",
       "26                   510.716364                   584.249091   \n",
       "27                  4131.352727                  4427.103636   \n",
       "28                   867.109091                   863.067273   \n",
       "29                  3753.523636                  4031.518182   \n",
       "\n",
       "    (DCMA_6_4.029_T, PSO_30_I)  (DCMA_7_4.8509_T, PSO_30_I)  \\\n",
       "25                 1821.860000                  2025.496364   \n",
       "26                  447.683636                   524.858182   \n",
       "27                 4150.345455                  4341.458182   \n",
       "28                  883.267273                   864.074545   \n",
       "29                 3131.316364                  4171.309091   \n",
       "\n",
       "    (DCMA_14_1.4688_T, PSO_32_I)  (DCMA_23_3.6117_F, PSO_32_I)  \\\n",
       "25                   2994.389091                   3848.480000   \n",
       "26                    670.712727                    777.381818   \n",
       "27                   4539.012727                   4405.720000   \n",
       "28                    861.445455                    842.850909   \n",
       "29                   3964.423636                   3670.338182   \n",
       "\n",
       "    (DCMA_13_2.2287_F, PSO_32_I)  (DCMA_27_4.1712_T, PSO_35_I)  \\\n",
       "25                   3278.043636                   3866.263636   \n",
       "26                    732.123636                    748.690909   \n",
       "27                   4185.878182                   4347.134545   \n",
       "28                    863.063636                    833.149091   \n",
       "29                   3970.085455                   3549.881818   \n",
       "\n",
       "    (DiagonalCMA, PSO)  \n",
       "25         2533.381818  \n",
       "26          703.840000  \n",
       "27         4619.418182  \n",
       "28          860.638182  \n",
       "29         4102.590909  "
      ]
     },
     "execution_count": 15,
     "metadata": {},
     "output_type": "execute_result"
    }
   ],
   "source": [
    "df_tune_n2.head()"
   ]
  },
  {
   "cell_type": "code",
   "execution_count": 16,
   "id": "5f7d6cdd",
   "metadata": {},
   "outputs": [],
   "source": [
    "for i in range(25,44):\n",
    "    for col in df_tune_n2.columns:\n",
    "        df_tune_n2.loc[i][col] = df_tune_n2.loc[i][col]/df_tune_n2.loc[i]['(DiagonalCMA, PSO)']  #second normalization scheme, compare with default"
   ]
  },
  {
   "cell_type": "code",
   "execution_count": 17,
   "id": "6e12e6ed",
   "metadata": {},
   "outputs": [
    {
     "data": {
      "text/html": [
       "<div>\n",
       "<style scoped>\n",
       "    .dataframe tbody tr th:only-of-type {\n",
       "        vertical-align: middle;\n",
       "    }\n",
       "\n",
       "    .dataframe tbody tr th {\n",
       "        vertical-align: top;\n",
       "    }\n",
       "\n",
       "    .dataframe thead th {\n",
       "        text-align: right;\n",
       "    }\n",
       "</style>\n",
       "<table border=\"1\" class=\"dataframe\">\n",
       "  <thead>\n",
       "    <tr style=\"text-align: right;\">\n",
       "      <th></th>\n",
       "      <th>(DCMA_6_2.2202_F, PSO_30_I)</th>\n",
       "      <th>(DCMA_8_4.0305_F, PSO_30_I)</th>\n",
       "      <th>(DCMA_6_4.029_T, PSO_30_I)</th>\n",
       "      <th>(DCMA_7_4.8509_T, PSO_30_I)</th>\n",
       "      <th>(DCMA_14_1.4688_T, PSO_32_I)</th>\n",
       "      <th>(DCMA_23_3.6117_F, PSO_32_I)</th>\n",
       "      <th>(DCMA_13_2.2287_F, PSO_32_I)</th>\n",
       "      <th>(DCMA_27_4.1712_T, PSO_35_I)</th>\n",
       "      <th>(DiagonalCMA, PSO)</th>\n",
       "    </tr>\n",
       "  </thead>\n",
       "  <tbody>\n",
       "    <tr>\n",
       "      <th>25</th>\n",
       "      <td>0.742109</td>\n",
       "      <td>0.821213</td>\n",
       "      <td>0.719141</td>\n",
       "      <td>0.799523</td>\n",
       "      <td>1.181973</td>\n",
       "      <td>1.519108</td>\n",
       "      <td>1.293940</td>\n",
       "      <td>1.526127</td>\n",
       "      <td>1.0</td>\n",
       "    </tr>\n",
       "    <tr>\n",
       "      <th>26</th>\n",
       "      <td>0.725614</td>\n",
       "      <td>0.830088</td>\n",
       "      <td>0.636059</td>\n",
       "      <td>0.745707</td>\n",
       "      <td>0.952934</td>\n",
       "      <td>1.104487</td>\n",
       "      <td>1.040185</td>\n",
       "      <td>1.063723</td>\n",
       "      <td>1.0</td>\n",
       "    </tr>\n",
       "    <tr>\n",
       "      <th>27</th>\n",
       "      <td>0.894345</td>\n",
       "      <td>0.958368</td>\n",
       "      <td>0.898456</td>\n",
       "      <td>0.939828</td>\n",
       "      <td>0.982594</td>\n",
       "      <td>0.953739</td>\n",
       "      <td>0.906148</td>\n",
       "      <td>0.941057</td>\n",
       "      <td>1.0</td>\n",
       "    </tr>\n",
       "    <tr>\n",
       "      <th>28</th>\n",
       "      <td>1.007519</td>\n",
       "      <td>1.002822</td>\n",
       "      <td>1.026293</td>\n",
       "      <td>1.003993</td>\n",
       "      <td>1.000938</td>\n",
       "      <td>0.979332</td>\n",
       "      <td>1.002818</td>\n",
       "      <td>0.968060</td>\n",
       "      <td>1.0</td>\n",
       "    </tr>\n",
       "    <tr>\n",
       "      <th>29</th>\n",
       "      <td>0.914915</td>\n",
       "      <td>0.982676</td>\n",
       "      <td>0.763253</td>\n",
       "      <td>1.016750</td>\n",
       "      <td>0.966322</td>\n",
       "      <td>0.894639</td>\n",
       "      <td>0.967702</td>\n",
       "      <td>0.865278</td>\n",
       "      <td>1.0</td>\n",
       "    </tr>\n",
       "  </tbody>\n",
       "</table>\n",
       "</div>"
      ],
      "text/plain": [
       "    (DCMA_6_2.2202_F, PSO_30_I)  (DCMA_8_4.0305_F, PSO_30_I)  \\\n",
       "25                     0.742109                     0.821213   \n",
       "26                     0.725614                     0.830088   \n",
       "27                     0.894345                     0.958368   \n",
       "28                     1.007519                     1.002822   \n",
       "29                     0.914915                     0.982676   \n",
       "\n",
       "    (DCMA_6_4.029_T, PSO_30_I)  (DCMA_7_4.8509_T, PSO_30_I)  \\\n",
       "25                    0.719141                     0.799523   \n",
       "26                    0.636059                     0.745707   \n",
       "27                    0.898456                     0.939828   \n",
       "28                    1.026293                     1.003993   \n",
       "29                    0.763253                     1.016750   \n",
       "\n",
       "    (DCMA_14_1.4688_T, PSO_32_I)  (DCMA_23_3.6117_F, PSO_32_I)  \\\n",
       "25                      1.181973                      1.519108   \n",
       "26                      0.952934                      1.104487   \n",
       "27                      0.982594                      0.953739   \n",
       "28                      1.000938                      0.979332   \n",
       "29                      0.966322                      0.894639   \n",
       "\n",
       "    (DCMA_13_2.2287_F, PSO_32_I)  (DCMA_27_4.1712_T, PSO_35_I)  \\\n",
       "25                      1.293940                      1.526127   \n",
       "26                      1.040185                      1.063723   \n",
       "27                      0.906148                      0.941057   \n",
       "28                      1.002818                      0.968060   \n",
       "29                      0.967702                      0.865278   \n",
       "\n",
       "    (DiagonalCMA, PSO)  \n",
       "25                 1.0  \n",
       "26                 1.0  \n",
       "27                 1.0  \n",
       "28                 1.0  \n",
       "29                 1.0  "
      ]
     },
     "execution_count": 17,
     "metadata": {},
     "output_type": "execute_result"
    }
   ],
   "source": [
    "df_tune_n2.head()"
   ]
  },
  {
   "cell_type": "code",
   "execution_count": 18,
   "id": "02937696",
   "metadata": {},
   "outputs": [
    {
     "data": {
      "image/png": "[encoded data removed]",
      "text/plain": [
       "<Figure size 800x500 with 2 Axes>"
      ]
     },
     "metadata": {},
     "output_type": "display_data"
    }
   ],
   "source": [
    "ax = sns.heatmap(df_tune_n2, xticklabels=1, cmap=\"seismic\", center=1, linewidths=0.5, linecolor='black')\n",
    "ax.set_xlabel('DCMA and PSO combinations')\n",
    "ax.set_ylabel('Function ID')\n",
    "sns.set(font_scale=0.7)\n",
    "ax.set_title('Heatmap of DCMA and PSO variants combination performance on functions\\n(measured by area under ECDF curve)')\n",
    "ax.set_xticklabels(ax.get_xticklabels(), rotation=60, horizontalalignment='right', fontsize=7)\n",
    "figure = plt.gcf()  # get current figure\n",
    "#figure.set_tight_layout(True)\n",
    "figure.set_size_inches(8,5)\n",
    "plt.savefig('ioh_logs_tune/new_algo2/hmap_tune_overall_n2f.pdf', bbox_inches='tight')\n",
    "plt.show()"
   ]
  },
  {
   "cell_type": "code",
   "execution_count": null,
   "id": "9a4b1fb2",
   "metadata": {},
   "outputs": [],
   "source": []
  }
 ],
 "metadata": {
  "kernelspec": {
   "display_name": "python (newtf)",
   "language": "python",
   "name": "newtf"
  },
  "language_info": {
   "codemirror_mode": {
    "name": "ipython",
    "version": 3
   },
   "file_extension": ".py",
   "mimetype": "text/x-python",
   "name": "python",
   "nbconvert_exporter": "python",
   "pygments_lexer": "ipython3",
   "version": "3.7.7"
  }
 },
 "nbformat": 4,
 "nbformat_minor": 5
}
